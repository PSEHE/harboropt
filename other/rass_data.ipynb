{
 "cells": [
  {
   "cell_type": "code",
   "execution_count": 70,
   "metadata": {},
   "outputs": [],
   "source": [
    "import pandas as pd\n",
    "import numpy as np\n",
    "import matplotlib.pyplot as plt\n",
    "import matplotlib.colors as mcolors\n",
    "from kmodes import kmodes,kprototypes\n",
    "\n",
    "\n",
    "%reload_ext autoreload\n",
    "%autoreload 2"
   ]
  },
  {
   "cell_type": "markdown",
   "metadata": {},
   "source": [
    "### To-do: \n",
    "#### 1.Filter RASS responses by zipcode\n",
    "#### 2.Choose which categorical variables to use for clustering. Drop variables like zipcode that shouldn't be used for clustering.\n",
    "#### 3.Specify to k-prototypes which variables are categorical."
   ]
  },
  {
   "cell_type": "code",
   "execution_count": 84,
   "metadata": {},
   "outputs": [
    {
     "name": "stderr",
     "output_type": "stream",
     "text": [
      "/opt/anaconda3/lib/python3.8/site-packages/IPython/core/interactiveshell.py:3071: DtypeWarning: Columns (535,537) have mixed types.Specify dtype option on import or set low_memory=False.\n",
      "  has_raised = await self.run_ast_nodes(code_ast.body, cell_name,\n"
     ]
    }
   ],
   "source": [
    "rass_data = pd.read_csv('data/2019_rass_data.csv')\n",
    "rass_survey_formats = pd.read_csv('data/2019_rass_survey_formats.csv')"
   ]
  },
  {
   "cell_type": "code",
   "execution_count": 4,
   "metadata": {},
   "outputs": [],
   "source": [
    "#Filter for LADWP territory.\n",
    "ladwp_rass = rass_data[rass_data['eutil']==1]\n",
    "\n",
    "#Filter for Los Angeles climate zone.\n",
    "czLA_ladwp_rass = ladwp_rass[ladwp_rass['CZT24']==6]\n",
    "\n",
    "#Filter for CEC forecasting zone \"LADWP Coastal\"\n",
    "filtered_rass = czLA_ladwp_rass[czLA_ladwp_rass['cec_forcasting_zone']==16]"
   ]
  },
  {
   "cell_type": "code",
   "execution_count": 27,
   "metadata": {},
   "outputs": [],
   "source": [
    "filtered_rass.to_csv('rass_ladwp_coastal_2019.csv')"
   ]
  },
  {
   "cell_type": "code",
   "execution_count": 233,
   "metadata": {},
   "outputs": [
    {
     "data": {
      "text/plain": [
       "array([ 1,  2,  3,  4,  5,  6,  7,  8,  9, 10, 11, 12, 97])"
      ]
     },
     "execution_count": 233,
     "metadata": {},
     "output_type": "execute_result"
    }
   ],
   "source": [
    "np.unique(filtered_rass.INCOME19)"
   ]
  },
  {
   "cell_type": "code",
   "execution_count": 369,
   "metadata": {},
   "outputs": [],
   "source": [
    "columns = ['res', 'BUILTYR', \"INCOME19\"]\n",
    "\n",
    "res_vals = np.unique(filtered_rass.res)\n",
    "built_vals = np.unique(filtered_rass.BUILTYR)\n",
    "inc_vals = np.unique(filtered_rass.INCOME19)\n",
    "\n",
    "probs = np.zeros((len(res_vals), len(built_vals), len(inc_vals)))\n",
    "\n",
    "for i, i_res in enumerate(res_vals):\n",
    "    for j, j_built in enumerate(built_vals):\n",
    "        for k, k_inc in enumerate(inc_vals):\n",
    "            res_inds = filtered_rass.res == i_res\n",
    "            built_inds = filtered_rass.BUILTYR == j_built\n",
    "            inc_inds = filtered_rass.INCOME19 == k_inc\n",
    "            intersection = np.logical_and(np.logical_and(res_inds, built_inds), inc_inds)\n",
    "            probs[i,j,k] = np.sum(intersection)\n",
    "    \n",
    "probs /= np.sum(probs)"
   ]
  },
  {
   "cell_type": "code",
   "execution_count": 370,
   "metadata": {},
   "outputs": [],
   "source": [
    "flat_probs = probs.flatten()\n",
    "sort_inds = np.argsort(flat_probs)[::-1]\n",
    "flat_sorted_probs = flat_probs[sort_inds]\n",
    "flat_cords = np.array(np.unravel_index(sort_inds, probs.shape))"
   ]
  },
  {
   "cell_type": "code",
   "execution_count": 371,
   "metadata": {},
   "outputs": [
    {
     "data": {
      "text/plain": [
       "array([ 3, 12, 12])"
      ]
     },
     "execution_count": 371,
     "metadata": {},
     "output_type": "execute_result"
    }
   ],
   "source": [
    "flat_cords[:,2]"
   ]
  },
  {
   "cell_type": "code",
   "execution_count": 372,
   "metadata": {},
   "outputs": [],
   "source": [
    "flat_survey_responses = []\n",
    "for i in range(flat_cords.shape[1]):\n",
    "    flat_survey_responses.append([res_vals[flat_cords[0,i]], built_vals[flat_cords[1,i]], inc_vals[flat_cords[2,i]]])\n",
    "flat_survey_responses = np.array(flat_survey_responses).T\n"
   ]
  },
  {
   "cell_type": "code",
   "execution_count": 373,
   "metadata": {},
   "outputs": [
    {
     "data": {
      "text/plain": [
       "array([[ 0,  0,  3, ...,  3,  3,  0],\n",
       "       [ 2,  1, 12, ...,  0,  0,  0],\n",
       "       [11, 11, 12, ...,  7,  6,  0]])"
      ]
     },
     "execution_count": 373,
     "metadata": {},
     "output_type": "execute_result"
    }
   ],
   "source": [
    "flat_cords"
   ]
  },
  {
   "cell_type": "code",
   "execution_count": 374,
   "metadata": {},
   "outputs": [],
   "source": [
    "end = 220"
   ]
  },
  {
   "cell_type": "code",
   "execution_count": 375,
   "metadata": {},
   "outputs": [
    {
     "data": {
      "text/plain": [
       "1.0"
      ]
     },
     "execution_count": 375,
     "metadata": {},
     "output_type": "execute_result"
    }
   ],
   "source": [
    "flat_sorted_probs[:end].sum()"
   ]
  },
  {
   "cell_type": "code",
   "execution_count": 376,
   "metadata": {},
   "outputs": [],
   "source": [
    "cmap=plt.get_cmap('Accent')"
   ]
  },
  {
   "cell_type": "code",
   "execution_count": 378,
   "metadata": {},
   "outputs": [
    {
     "data": {
      "text/plain": [
       "array([1, 1, 4, 1, 4, 1, 1, 1, 1, 1, 1, 1, 1, 4, 1, 4, 4, 1, 1, 1, 1, 1,\n",
       "       4, 4, 2, 4, 2, 1, 1, 1, 1, 4, 4, 4, 4, 1, 4, 4, 4, 1, 4, 4, 4, 2,\n",
       "       4, 2, 1, 4, 3, 4, 4, 1, 4, 4, 4, 4, 4, 4, 1, 4, 4, 2, 4, 2, 4, 1,\n",
       "       4, 1, 1, 1, 1, 1, 1, 1, 1, 1, 1, 1, 3, 3, 1, 4, 4, 3, 4, 1, 1, 1,\n",
       "       1, 1, 4, 4, 2, 4, 4, 4, 4, 2, 2, 4, 4, 2, 4, 2, 4, 4, 4, 4, 4, 2,\n",
       "       4, 2, 2, 4, 2, 4, 4, 2, 4, 4, 4, 4, 4, 3, 2, 3, 3, 3, 3, 3, 3, 3,\n",
       "       2, 3, 3, 3, 3, 2, 3, 3, 3, 3, 3, 3, 3, 3, 3, 3, 3, 3, 2, 2, 2, 2,\n",
       "       4, 4, 2, 4, 4, 4, 4, 2, 2, 4, 4, 4, 4, 4, 4, 2, 4, 2, 2, 2, 3, 3,\n",
       "       3, 2, 2, 2, 3, 1, 1, 1, 1, 1, 1, 1, 1, 1, 1, 1, 1, 1, 1, 1, 1, 1,\n",
       "       1, 1, 1, 1, 1, 1, 5, 5, 4, 1, 1, 1, 4, 4, 4, 1, 1, 1, 5, 1, 1, 1])"
      ]
     },
     "execution_count": 378,
     "metadata": {},
     "output_type": "execute_result"
    }
   ],
   "source": [
    "flat_survey_responses[dim, :end]"
   ]
  },
  {
   "cell_type": "code",
   "execution_count": 366,
   "metadata": {},
   "outputs": [
    {
     "data": {
      "text/plain": [
       "<matplotlib.collections.PathCollection at 0x7ff48bfd4790>"
      ]
     },
     "execution_count": 366,
     "metadata": {},
     "output_type": "execute_result"
    },
    {
     "data": {
      "image/png": "[encoded data removed]",
      "text/plain": [
       "<Figure size 432x288 with 1 Axes>"
      ]
     },
     "metadata": {
      "needs_background": "light"
     },
     "output_type": "display_data"
    }
   ],
   "source": [
    "dim = 0\n",
    "colors = [cmap(i) for i in flat_cords[dim, :end]]\n",
    "plt.scatter(np.arange(end),flat_sorted_probs[:end], c=colors)"
   ]
  },
  {
   "cell_type": "code",
   "execution_count": 361,
   "metadata": {},
   "outputs": [
    {
     "data": {
      "text/plain": [
       "<matplotlib.collections.PathCollection at 0x7ff48bdfc6a0>"
      ]
     },
     "execution_count": 361,
     "metadata": {},
     "output_type": "execute_result"
    },
    {
     "data": {
      "image/png": "[encoded data removed]",
      "text/plain": [
       "<Figure size 432x288 with 1 Axes>"
      ]
     },
     "metadata": {
      "needs_background": "light"
     },
     "output_type": "display_data"
    }
   ],
   "source": [
    "dim = 1\n",
    "colors = [cmap(i) for i in flat_cords[dim, :end]]\n",
    "plt.scatter(np.arange(end),flat_sorted_probs[:end], c=colors)"
   ]
  },
  {
   "cell_type": "code",
   "execution_count": 362,
   "metadata": {},
   "outputs": [
    {
     "data": {
      "text/plain": [
       "<matplotlib.collections.PathCollection at 0x7ff48bd62160>"
      ]
     },
     "execution_count": 362,
     "metadata": {},
     "output_type": "execute_result"
    },
    {
     "data": {
      "image/png": "[encoded data removed]",
      "text/plain": [
       "<Figure size 432x288 with 1 Axes>"
      ]
     },
     "metadata": {
      "needs_background": "light"
     },
     "output_type": "display_data"
    }
   ],
   "source": [
    "dim = 2\n",
    "colors = [cmap(i) for i in flat_cords[dim, :end]]\n",
    "plt.scatter(np.arange(end),flat_sorted_probs[:end], c=colors)"
   ]
  },
  {
   "cell_type": "code",
   "execution_count": 391,
   "metadata": {},
   "outputs": [
    {
     "data": {
      "image/png": "[encoded data removed]",
      "text/plain": [
       "<Figure size 1440x360 with 5 Axes>"
      ]
     },
     "metadata": {
      "needs_background": "light"
     },
     "output_type": "display_data"
    }
   ],
   "source": [
    "fig, ax = plt.subplots(1, probs.shape[0],figsize = (20,5))\n",
    "for i in range(probs.shape[0]):\n",
    "    inc_probs = probs[i]\n",
    "    ax[i].matshow(inc_probs, vmin=0, vmax=probs.max())\n",
    "    ax[i].set_title(res_vals[i])\n",
    "plt.tight_layout()"
   ]
  },
  {
   "cell_type": "code",
   "execution_count": 246,
   "metadata": {},
   "outputs": [],
   "source": [
    "\n",
    "\n",
    "#Filter rass data for categorical variables (int and string values)\n",
    "categorical_col_inds = filtered_rass.dtypes != float\n",
    "categorical_index = np.where(categorical_col_inds)"
   ]
  },
  {
   "cell_type": "code",
   "execution_count": null,
   "metadata": {},
   "outputs": [],
   "source": [
    "#Drop columns with nans.\n",
    "filtered_rass_dropna = filtered_rass.dropna(axis='columns')"
   ]
  },
  {
   "cell_type": "code",
   "execution_count": 189,
   "metadata": {},
   "outputs": [],
   "source": [
    "#categorical_df.drop(columns='servzip', inplace=True)"
   ]
  },
  {
   "cell_type": "code",
   "execution_count": 224,
   "metadata": {},
   "outputs": [],
   "source": [
    "#Alternate method: use survey format csv to filter for categorical variables.\n",
    "\n",
    "# categorical_vars = rass_survey_formats['Variable'].unique().tolist()\n",
    "# categorical_cols = [x for x in filtered_rass.columns if x in categorial_vars]\n",
    "# categorical = filtered_rass[categorical_cols]"
   ]
  },
  {
   "cell_type": "markdown",
   "metadata": {},
   "source": [
    "### Kmodes method (just categorical variables)"
   ]
  },
  {
   "cell_type": "code",
   "execution_count": 226,
   "metadata": {},
   "outputs": [
    {
     "name": "stdout",
     "output_type": "stream",
     "text": [
      "Init: initializing centroids\n",
      "Init: initializing clusters\n",
      "Starting iterations...\n",
      "Run 1, iteration: 1/100, moves: 4, cost: 50871.0\n",
      "Run 1, iteration: 2/100, moves: 0, cost: 50871.0\n",
      "[['1' '3' '16' ... '90066' '1' '1']\n",
      " ['1' '97' '16' ... '90045' '97' '97']]\n"
     ]
    }
   ],
   "source": [
    "#kmodes method on categorical variables.\n",
    "\n",
    "km = kmodes.KModes(n_clusters=2, init='Cao',verbose=1)\n",
    "clusters = km.fit_predict(filtered_rass_dropna)\n",
    "print(km.cluster_centroids_)"
   ]
  },
  {
   "cell_type": "code",
   "execution_count": 223,
   "metadata": {},
   "outputs": [
    {
     "data": {
      "text/plain": [
       "array([['1', '3', '16', ..., '90066', '1', '1'],\n",
       "       ['1', '97', '16', ..., '90045', '97', '97']], dtype='<U32')"
      ]
     },
     "execution_count": 223,
     "metadata": {},
     "output_type": "execute_result"
    }
   ],
   "source": [
    "km.cluster_centroids_"
   ]
  },
  {
   "cell_type": "markdown",
   "metadata": {},
   "source": [
    "### Kprototypes (categorical and numerical variables)"
   ]
  },
  {
   "cell_type": "code",
   "execution_count": 221,
   "metadata": {},
   "outputs": [],
   "source": [
    "# categorical_list = list(categorical_index[0])"
   ]
  },
  {
   "cell_type": "code",
   "execution_count": 222,
   "metadata": {},
   "outputs": [],
   "source": [
    "# kp = kprototypes.KPrototypes(n_clusters=2, verbose=1)\n",
    "# clusters = kp.fit_predict(filtered_rass_dropna, categorical = categorical_list)"
   ]
  }
 ],
 "metadata": {
  "kernelspec": {
   "display_name": "Python 3",
   "language": "python",
   "name": "python3"
  },
  "language_info": {
   "codemirror_mode": {
    "name": "ipython",
    "version": 3
   },
   "file_extension": ".py",
   "mimetype": "text/x-python",
   "name": "python",
   "nbconvert_exporter": "python",
   "pygments_lexer": "ipython3",
   "version": "3.8.3"
  }
 },
 "nbformat": 4,
 "nbformat_minor": 4
}
