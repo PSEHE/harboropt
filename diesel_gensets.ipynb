{
 "cells": [
  {
   "cell_type": "code",
   "execution_count": 29,
   "metadata": {},
   "outputs": [],
   "source": [
    "import pandas as pd\n",
    "import numpy as np\n",
    "import glob\n",
    "import re\n",
    "import matplotlib.pyplot as plt\n",
    "import matplotlib.colors as mcolors\n",
    "from kmodes import kmodes, kprototypes\n",
    "from datetime import datetime, timedelta\n",
    "\n",
    "%reload_ext autoreload\n",
    "%autoreload 2\n",
    "\n",
    "#pd.set_option('display.max_rows', None)"
   ]
  },
  {
   "cell_type": "markdown",
   "metadata": {},
   "source": [
    "## To-Do: \n",
    "### 1) Filter for diesel gensets within local resource area. \n",
    "### 2) Estimate HP for each genset using SCAQMD default emission rates? Might need guess of how many hours they run.\n",
    "### 3) Figure out average emissions for each pollutant per HP. USe conversion from HP to KW to find avoided emissions per KW."
   ]
  },
  {
   "cell_type": "code",
   "execution_count": 8,
   "metadata": {},
   "outputs": [],
   "source": [
    "hp_to_kw = 0.7457"
   ]
  },
  {
   "cell_type": "code",
   "execution_count": 9,
   "metadata": {},
   "outputs": [],
   "source": [
    "lbs_to_short_tons = 0.0005"
   ]
  },
  {
   "cell_type": "code",
   "execution_count": 10,
   "metadata": {},
   "outputs": [],
   "source": [
    "diesel_gensets = pd.read_csv('data/SCAQMD_dieselBUGs_2020_PRR#1399752.csv')"
   ]
  },
  {
   "cell_type": "code",
   "execution_count": 11,
   "metadata": {},
   "outputs": [],
   "source": [
    "pols = ['Emi Amt Av30 Co',\n",
    "       'Emi Amt Av30 Nox', 'Emi Amt Av30 Pm10', 'Emi Amt Av30 Rog',\n",
    "       'Emi Amt Av30 Sox', 'Emi Amt Av30 Tog']"
   ]
  },
  {
   "cell_type": "code",
   "execution_count": 12,
   "metadata": {},
   "outputs": [],
   "source": [
    "for pol in pols:\n",
    "    pol_name = pol.split(' ')[-1]\n",
    "    diesel_gensets[pol_name + '(TPY)']= diesel_gensets[pol]* lbs_to_short_tons * 365"
   ]
  },
  {
   "cell_type": "code",
   "execution_count": 13,
   "metadata": {},
   "outputs": [],
   "source": [
    "diesel_gensets['Total_pollution_summed'] = diesel_gensets['Co(TPY)']+diesel_gensets['Nox(TPY)']+diesel_gensets['Pm10(TPY)']+diesel_gensets['Rog(TPY)']+diesel_gensets['Sox(TPY)']+diesel_gensets['Tog(TPY)']\n"
   ]
  },
  {
   "cell_type": "code",
   "execution_count": 14,
   "metadata": {},
   "outputs": [],
   "source": [
    "diesel_gensets_nonzero_emissions = diesel_gensets[diesel_gensets['Total_pollution_summed']>0]"
   ]
  },
  {
   "cell_type": "code",
   "execution_count": 15,
   "metadata": {},
   "outputs": [],
   "source": [
    "tpy_cols = ['Co(TPY)', 'Nox(TPY)',\n",
    "       'Pm10(TPY)', 'Rog(TPY)', 'Sox(TPY)', 'Tog(TPY)']"
   ]
  },
  {
   "cell_type": "code",
   "execution_count": 16,
   "metadata": {},
   "outputs": [
    {
     "name": "stderr",
     "output_type": "stream",
     "text": [
      "<ipython-input-16-521ec6a5e165>:1: FutureWarning: Indexing with multiple keys (implicitly converted to a tuple of keys) will be deprecated, use a list instead.\n",
      "  emissions_by_bcat_type = diesel_gensets_nonzero_emissions.groupby(['BCAT Description'])['Co(TPY)', 'Nox(TPY)',\n"
     ]
    }
   ],
   "source": [
    "emissions_by_bcat_type = diesel_gensets_nonzero_emissions.groupby(['BCAT Description'])['Co(TPY)', 'Nox(TPY)',\n",
    "       'Pm10(TPY)', 'Rog(TPY)', 'Sox(TPY)', 'Tog(TPY)','Total_pollution_summed'].sum()"
   ]
  },
  {
   "cell_type": "code",
   "execution_count": 17,
   "metadata": {},
   "outputs": [],
   "source": [
    "highest_emitting_bcat_types = emissions_by_bcat_type[emissions_by_bcat_type['Total_pollution_summed']>500]"
   ]
  },
  {
   "cell_type": "code",
   "execution_count": 18,
   "metadata": {},
   "outputs": [],
   "source": [
    "diesel_bcat_types = emissions_by_bcat_type[emissions_by_bcat_type.index.str.contains('DIESEL')]"
   ]
  },
  {
   "cell_type": "code",
   "execution_count": 22,
   "metadata": {},
   "outputs": [],
   "source": [
    "diesel_em_gen_names = ['I C E (>500 HP) EM ELEC GEN DIESEL','I C E (50-500 HP) EM ELEC GEN-DIESEL']"
   ]
  },
  {
   "cell_type": "code",
   "execution_count": 23,
   "metadata": {},
   "outputs": [],
   "source": [
    "diesel_em_gens = diesel_gensets_nonzero_emissions[diesel_gensets_nonzero_emissions['BCAT Description'].isin(diesel_em_gen_names)]"
   ]
  },
  {
   "cell_type": "code",
   "execution_count": 32,
   "metadata": {},
   "outputs": [
    {
     "data": {
      "text/plain": [
       "array(['LA CITY, DEPT OF GEN SERVICES',\n",
       "       'UNIVERSITY SO CALIFORNIA,HEALTH SCIENCES', 'LA CITY, HARBOR DEPT',\n",
       "       ..., 'SANMINA CORPORATION', 'ORTEL, A DIVISION OF EMCORE',\n",
       "       'LAMPS PLUS INC/ PACIFIC COAST LIGHTING'], dtype=object)"
      ]
     },
     "execution_count": 32,
     "metadata": {},
     "output_type": "execute_result"
    }
   ],
   "source": [
    "diesel_em_gens['Facility Name'].unique()"
   ]
  },
  {
   "cell_type": "code",
   "execution_count": null,
   "metadata": {},
   "outputs": [],
   "source": []
  }
 ],
 "metadata": {
  "kernelspec": {
   "display_name": "Python 3",
   "language": "python",
   "name": "python3"
  },
  "language_info": {
   "codemirror_mode": {
    "name": "ipython",
    "version": 3
   },
   "file_extension": ".py",
   "mimetype": "text/x-python",
   "name": "python",
   "nbconvert_exporter": "python",
   "pygments_lexer": "ipython3",
   "version": "3.8.3"
  }
 },
 "nbformat": 4,
 "nbformat_minor": 4
}
