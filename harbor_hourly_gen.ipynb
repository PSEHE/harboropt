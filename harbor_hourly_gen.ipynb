{
 "cells": [
  {
   "cell_type": "code",
   "execution_count": 1,
   "metadata": {},
   "outputs": [],
   "source": [
    "import pandas as pd\n",
    "import numpy as np\n",
    "import matplotlib.pyplot as plt\n",
    "\n",
    "%reload_ext autoreload\n",
    "%autoreload 2"
   ]
  },
  {
   "cell_type": "code",
   "execution_count": 2,
   "metadata": {},
   "outputs": [],
   "source": [
    "harbor_hourly = pd.read_csv('data/harbor_hourly_gen_emissions_2019.csv')"
   ]
  },
  {
   "cell_type": "code",
   "execution_count": 10,
   "metadata": {},
   "outputs": [],
   "source": [
    "harbor_hourly_drop_nans = harbor_hourly.dropna()"
   ]
  },
  {
   "cell_type": "code",
   "execution_count": 14,
   "metadata": {},
   "outputs": [
    {
     "name": "stderr",
     "output_type": "stream",
     "text": [
      "<ipython-input-14-a636a47bcb2d>:1: SettingWithCopyWarning: \n",
      "A value is trying to be set on a copy of a slice from a DataFrame.\n",
      "Try using .loc[row_indexer,col_indexer] = value instead\n",
      "\n",
      "See the caveats in the documentation: https://pandas.pydata.org/pandas-docs/stable/user_guide/indexing.html#returning-a-view-versus-a-copy\n",
      "  harbor_hourly_drop_nans['heat_rate_mmbtu_per_mwh'] = harbor_hourly_drop_nans['heat_input_mmbtu']/harbor_hourly_drop_nans['load_mw']\n"
     ]
    }
   ],
   "source": [
    "harbor_hourly_drop_nans['heat_rate_mmbtu_per_mwh'] = harbor_hourly_drop_nans['heat_input_mmbtu']/harbor_hourly_drop_nans['load_mw']"
   ]
  },
  {
   "cell_type": "code",
   "execution_count": 18,
   "metadata": {},
   "outputs": [],
   "source": [
    "harbor_hourly_drop_nans = harbor_hourly_drop_nans[harbor_hourly_drop_nans['load_mw']!= 0]"
   ]
  },
  {
   "cell_type": "code",
   "execution_count": 20,
   "metadata": {},
   "outputs": [
    {
     "data": {
      "text/html": [
       "<div>\n",
       "<style scoped>\n",
       "    .dataframe tbody tr th:only-of-type {\n",
       "        vertical-align: middle;\n",
       "    }\n",
       "\n",
       "    .dataframe tbody tr th {\n",
       "        vertical-align: top;\n",
       "    }\n",
       "\n",
       "    .dataframe thead th {\n",
       "        text-align: right;\n",
       "    }\n",
       "</style>\n",
       "<table border=\"1\" class=\"dataframe\">\n",
       "  <thead>\n",
       "    <tr style=\"text-align: right;\">\n",
       "      <th></th>\n",
       "      <th>state</th>\n",
       "      <th>facility_name</th>\n",
       "      <th>facility_id</th>\n",
       "      <th>year</th>\n",
       "      <th>date</th>\n",
       "      <th>hour</th>\n",
       "      <th>load_mw</th>\n",
       "      <th>so2_lb</th>\n",
       "      <th>nox_lb</th>\n",
       "      <th>co2_short_tons</th>\n",
       "      <th>heat_input_mmbtu</th>\n",
       "      <th>heat_rate_mmbtu_per_mwh</th>\n",
       "    </tr>\n",
       "  </thead>\n",
       "  <tbody>\n",
       "    <tr>\n",
       "      <th>175</th>\n",
       "      <td>CA</td>\n",
       "      <td>Harbor Generating Station</td>\n",
       "      <td>399</td>\n",
       "      <td>2019</td>\n",
       "      <td>1/8/19</td>\n",
       "      <td>7</td>\n",
       "      <td>18.0</td>\n",
       "      <td>0.116</td>\n",
       "      <td>5.398</td>\n",
       "      <td>11.252</td>\n",
       "      <td>192.792</td>\n",
       "      <td>10.710667</td>\n",
       "    </tr>\n",
       "    <tr>\n",
       "      <th>176</th>\n",
       "      <td>CA</td>\n",
       "      <td>Harbor Generating Station</td>\n",
       "      <td>399</td>\n",
       "      <td>2019</td>\n",
       "      <td>1/8/19</td>\n",
       "      <td>8</td>\n",
       "      <td>14.0</td>\n",
       "      <td>0.177</td>\n",
       "      <td>10.917</td>\n",
       "      <td>12.604</td>\n",
       "      <td>194.948</td>\n",
       "      <td>13.924857</td>\n",
       "    </tr>\n",
       "    <tr>\n",
       "      <th>177</th>\n",
       "      <td>CA</td>\n",
       "      <td>Harbor Generating Station</td>\n",
       "      <td>399</td>\n",
       "      <td>2019</td>\n",
       "      <td>1/8/19</td>\n",
       "      <td>9</td>\n",
       "      <td>16.0</td>\n",
       "      <td>0.103</td>\n",
       "      <td>11.666</td>\n",
       "      <td>10.034</td>\n",
       "      <td>171.564</td>\n",
       "      <td>10.722750</td>\n",
       "    </tr>\n",
       "    <tr>\n",
       "      <th>178</th>\n",
       "      <td>CA</td>\n",
       "      <td>Harbor Generating Station</td>\n",
       "      <td>399</td>\n",
       "      <td>2019</td>\n",
       "      <td>1/8/19</td>\n",
       "      <td>10</td>\n",
       "      <td>12.0</td>\n",
       "      <td>0.179</td>\n",
       "      <td>11.926</td>\n",
       "      <td>12.400</td>\n",
       "      <td>189.300</td>\n",
       "      <td>15.775000</td>\n",
       "    </tr>\n",
       "    <tr>\n",
       "      <th>179</th>\n",
       "      <td>CA</td>\n",
       "      <td>Harbor Generating Station</td>\n",
       "      <td>399</td>\n",
       "      <td>2019</td>\n",
       "      <td>1/8/19</td>\n",
       "      <td>11</td>\n",
       "      <td>3.0</td>\n",
       "      <td>0.023</td>\n",
       "      <td>0.191</td>\n",
       "      <td>2.220</td>\n",
       "      <td>38.100</td>\n",
       "      <td>12.700000</td>\n",
       "    </tr>\n",
       "    <tr>\n",
       "      <th>...</th>\n",
       "      <td>...</td>\n",
       "      <td>...</td>\n",
       "      <td>...</td>\n",
       "      <td>...</td>\n",
       "      <td>...</td>\n",
       "      <td>...</td>\n",
       "      <td>...</td>\n",
       "      <td>...</td>\n",
       "      <td>...</td>\n",
       "      <td>...</td>\n",
       "      <td>...</td>\n",
       "      <td>...</td>\n",
       "    </tr>\n",
       "    <tr>\n",
       "      <th>8674</th>\n",
       "      <td>CA</td>\n",
       "      <td>Harbor Generating Station</td>\n",
       "      <td>399</td>\n",
       "      <td>2019</td>\n",
       "      <td>12/28/19</td>\n",
       "      <td>10</td>\n",
       "      <td>75.0</td>\n",
       "      <td>0.550</td>\n",
       "      <td>28.399</td>\n",
       "      <td>53.400</td>\n",
       "      <td>916.100</td>\n",
       "      <td>12.214667</td>\n",
       "    </tr>\n",
       "    <tr>\n",
       "      <th>8675</th>\n",
       "      <td>CA</td>\n",
       "      <td>Harbor Generating Station</td>\n",
       "      <td>399</td>\n",
       "      <td>2019</td>\n",
       "      <td>12/28/19</td>\n",
       "      <td>11</td>\n",
       "      <td>91.0</td>\n",
       "      <td>0.575</td>\n",
       "      <td>23.002</td>\n",
       "      <td>55.900</td>\n",
       "      <td>958.400</td>\n",
       "      <td>10.531868</td>\n",
       "    </tr>\n",
       "    <tr>\n",
       "      <th>8676</th>\n",
       "      <td>CA</td>\n",
       "      <td>Harbor Generating Station</td>\n",
       "      <td>399</td>\n",
       "      <td>2019</td>\n",
       "      <td>12/28/19</td>\n",
       "      <td>12</td>\n",
       "      <td>107.0</td>\n",
       "      <td>0.572</td>\n",
       "      <td>14.298</td>\n",
       "      <td>55.600</td>\n",
       "      <td>953.200</td>\n",
       "      <td>8.908411</td>\n",
       "    </tr>\n",
       "    <tr>\n",
       "      <th>8677</th>\n",
       "      <td>CA</td>\n",
       "      <td>Harbor Generating Station</td>\n",
       "      <td>399</td>\n",
       "      <td>2019</td>\n",
       "      <td>12/28/19</td>\n",
       "      <td>13</td>\n",
       "      <td>109.0</td>\n",
       "      <td>0.571</td>\n",
       "      <td>13.334</td>\n",
       "      <td>55.600</td>\n",
       "      <td>952.400</td>\n",
       "      <td>8.737615</td>\n",
       "    </tr>\n",
       "    <tr>\n",
       "      <th>8678</th>\n",
       "      <td>CA</td>\n",
       "      <td>Harbor Generating Station</td>\n",
       "      <td>399</td>\n",
       "      <td>2019</td>\n",
       "      <td>12/28/19</td>\n",
       "      <td>14</td>\n",
       "      <td>77.0</td>\n",
       "      <td>0.441</td>\n",
       "      <td>22.760</td>\n",
       "      <td>42.800</td>\n",
       "      <td>734.200</td>\n",
       "      <td>9.535065</td>\n",
       "    </tr>\n",
       "  </tbody>\n",
       "</table>\n",
       "<p>1078 rows × 12 columns</p>\n",
       "</div>"
      ],
      "text/plain": [
       "     state              facility_name  facility_id  year      date  hour  \\\n",
       "175     CA  Harbor Generating Station          399  2019    1/8/19     7   \n",
       "176     CA  Harbor Generating Station          399  2019    1/8/19     8   \n",
       "177     CA  Harbor Generating Station          399  2019    1/8/19     9   \n",
       "178     CA  Harbor Generating Station          399  2019    1/8/19    10   \n",
       "179     CA  Harbor Generating Station          399  2019    1/8/19    11   \n",
       "...    ...                        ...          ...   ...       ...   ...   \n",
       "8674    CA  Harbor Generating Station          399  2019  12/28/19    10   \n",
       "8675    CA  Harbor Generating Station          399  2019  12/28/19    11   \n",
       "8676    CA  Harbor Generating Station          399  2019  12/28/19    12   \n",
       "8677    CA  Harbor Generating Station          399  2019  12/28/19    13   \n",
       "8678    CA  Harbor Generating Station          399  2019  12/28/19    14   \n",
       "\n",
       "      load_mw  so2_lb  nox_lb  co2_short_tons  heat_input_mmbtu  \\\n",
       "175      18.0   0.116   5.398          11.252           192.792   \n",
       "176      14.0   0.177  10.917          12.604           194.948   \n",
       "177      16.0   0.103  11.666          10.034           171.564   \n",
       "178      12.0   0.179  11.926          12.400           189.300   \n",
       "179       3.0   0.023   0.191           2.220            38.100   \n",
       "...       ...     ...     ...             ...               ...   \n",
       "8674     75.0   0.550  28.399          53.400           916.100   \n",
       "8675     91.0   0.575  23.002          55.900           958.400   \n",
       "8676    107.0   0.572  14.298          55.600           953.200   \n",
       "8677    109.0   0.571  13.334          55.600           952.400   \n",
       "8678     77.0   0.441  22.760          42.800           734.200   \n",
       "\n",
       "      heat_rate_mmbtu_per_mwh  \n",
       "175                 10.710667  \n",
       "176                 13.924857  \n",
       "177                 10.722750  \n",
       "178                 15.775000  \n",
       "179                 12.700000  \n",
       "...                       ...  \n",
       "8674                12.214667  \n",
       "8675                10.531868  \n",
       "8676                 8.908411  \n",
       "8677                 8.737615  \n",
       "8678                 9.535065  \n",
       "\n",
       "[1078 rows x 12 columns]"
      ]
     },
     "execution_count": 20,
     "metadata": {},
     "output_type": "execute_result"
    }
   ],
   "source": [
    "harbor_hourly_drop_nans"
   ]
  },
  {
   "cell_type": "code",
   "execution_count": 19,
   "metadata": {},
   "outputs": [
    {
     "data": {
      "text/plain": [
       "10.874593691589608"
      ]
     },
     "execution_count": 19,
     "metadata": {},
     "output_type": "execute_result"
    }
   ],
   "source": [
    "harbor_hourly_drop_nans['heat_rate_mmbtu_per_mwh'].mean()"
   ]
  },
  {
   "cell_type": "code",
   "execution_count": 30,
   "metadata": {},
   "outputs": [
    {
     "data": {
      "text/plain": [
       "0.007040667956182043"
      ]
     },
     "execution_count": 30,
     "metadata": {},
     "output_type": "execute_result"
    }
   ],
   "source": [
    "(harbor_hourly_drop_nans['so2_lb']/harbor_hourly_drop_nans['load_mw']).mean()"
   ]
  },
  {
   "cell_type": "code",
   "execution_count": 31,
   "metadata": {},
   "outputs": [
    {
     "data": {
      "text/plain": [
       "0.005748766344891754"
      ]
     },
     "execution_count": 31,
     "metadata": {},
     "output_type": "execute_result"
    }
   ],
   "source": [
    "(harbor_hourly_drop_nans['so2_lb'].sum()/harbor_hourly_drop_nans['load_mw'].sum())"
   ]
  },
  {
   "cell_type": "code",
   "execution_count": null,
   "metadata": {},
   "outputs": [],
   "source": []
  }
 ],
 "metadata": {
  "kernelspec": {
   "display_name": "Python 3",
   "language": "python",
   "name": "python3"
  },
  "language_info": {
   "codemirror_mode": {
    "name": "ipython",
    "version": 3
   },
   "file_extension": ".py",
   "mimetype": "text/x-python",
   "name": "python",
   "nbconvert_exporter": "python",
   "pygments_lexer": "ipython3",
   "version": "3.8.3"
  }
 },
 "nbformat": 4,
 "nbformat_minor": 4
}
