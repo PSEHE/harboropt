{
 "cells": [
  {
   "cell_type": "code",
   "execution_count": 26,
   "metadata": {},
   "outputs": [],
   "source": [
    "import pandas as pd\n",
    "import os\n",
    "import numpy as np\n",
    "\n",
    "%reload_ext autoreload\n",
    "%autoreload 2"
   ]
  },
  {
   "cell_type": "markdown",
   "metadata": {},
   "source": [
    "## Residential (SF)"
   ]
  },
  {
   "cell_type": "markdown",
   "metadata": {},
   "source": [
    "#### Create df with hourly LADWP peak pricing periods (low peak, high peak, base) in 2019. \n",
    "\n",
    "##### Note: The year 2019 starts on a Tuesday. If running a different year of Harbor data, need to adjust pricing periods to start on the correct day of the week."
   ]
  },
  {
   "cell_type": "code",
   "execution_count": 27,
   "metadata": {},
   "outputs": [],
   "source": [
    "#Constructed this csv based on LADWP retail rate pricing periods for each day and hour of the week. \n",
    "peak_periods = pd.read_csv('data/peak_periods_2019.csv')"
   ]
  },
  {
   "cell_type": "code",
   "execution_count": 28,
   "metadata": {},
   "outputs": [],
   "source": [
    "#Expand to full year.\n",
    "almost_full_year = pd.concat([peak_periods]*52, ignore_index=True)\n",
    "last_hours = peak_periods[0:24]\n",
    "full_year = pd.concat([almost_full_year, last_hours], ignore_index=True)"
   ]
  },
  {
   "cell_type": "code",
   "execution_count": 29,
   "metadata": {},
   "outputs": [],
   "source": [
    "#Label each hour in the year with its corresponding seasonal pricing period (by month).\n",
    "\n",
    "jan_march_days = 90\n",
    "jan_march_hour_start = 0\n",
    "jan_march_hour_end = jan_march_days*24-1\n",
    "\n",
    "apr_may_days = 61\n",
    "apr_may_hour_start = jan_march_hour_end + 1\n",
    "apr_may_hour_end = apr_may_hour_start + (apr_may_days*24) -1\n",
    "\n",
    "jun_days = 30\n",
    "jun_hour_start = apr_may_hour_end + 1\n",
    "jun_hour_end = jun_hour_start + (jun_days*24) -1\n",
    "\n",
    "jul_sept_days = 92\n",
    "jul_sept_hour_start = jun_hour_end + 1\n",
    "jul_sept_hour_end = jul_sept_hour_start + (jul_sept_days*24) -1\n",
    "\n",
    "oct_dec_days = 92\n",
    "oct_dec_hour_start = jul_sept_hour_end + 1\n",
    "oct_dec_hour_end = oct_dec_hour_start + (oct_dec_days*24) -1\n",
    "\n",
    "full_year.loc[jan_march_hour_start:jan_march_hour_end,'month'] = 'jan_mar'\n",
    "full_year.loc[apr_may_hour_start:apr_may_hour_end,'month'] = 'apr_may'\n",
    "full_year.loc[jun_hour_start:jun_hour_end,'month'] = 'jun'\n",
    "full_year.loc[jul_sept_hour_start:jul_sept_hour_end,'month'] = 'jul_sept'\n",
    "full_year.loc[oct_dec_hour_start:oct_dec_hour_end,'month'] = 'oct_dec'"
   ]
  },
  {
   "cell_type": "markdown",
   "metadata": {},
   "source": [
    "#### Read in LADWP residential retail TOU rate table and assign rates to each hour in year 2019."
   ]
  },
  {
   "cell_type": "code",
   "execution_count": 30,
   "metadata": {},
   "outputs": [],
   "source": [
    "res_tou_rate_lookup = pd.read_csv('data/res_retail_tou_rate_period_lookup.csv')"
   ]
  },
  {
   "cell_type": "code",
   "execution_count": 31,
   "metadata": {},
   "outputs": [],
   "source": [
    "month_period = full_year.groupby(['month', 'period'])"
   ]
  },
  {
   "cell_type": "code",
   "execution_count": 32,
   "metadata": {},
   "outputs": [],
   "source": [
    "res_hourly_tou_rate = pd.DataFrame()\n",
    "\n",
    "for name, group in month_period:\n",
    "    month = name[0]\n",
    "    period = name[1]\n",
    "    month_inds = res_tou_rate_lookup['month'] == month\n",
    "    rate = res_tou_rate_lookup.loc[month_inds, period].item()\n",
    "    #Convert 2021$ to 2018$ (0.96/1) and mulitply by 1000 to get price per MWh.\n",
    "    group['rate_sf'] = rate * 0.96 * 1000\n",
    "\n",
    "    res_hourly_tou_rate = pd.concat([res_hourly_tou_rate, group])\n",
    "    \n",
    "res_hourly_tou_rate['units'] = '2018$/MWh'\n",
    "res_hourly_tou_rate = res_hourly_tou_rate.sort_index()"
   ]
  },
  {
   "cell_type": "code",
   "execution_count": 34,
   "metadata": {},
   "outputs": [],
   "source": [
    "res_hourly_tou_rate.to_csv('data/ladwp_res_hourly_tou_rate.csv')"
   ]
  },
  {
   "cell_type": "markdown",
   "metadata": {},
   "source": [
    "## Commercial & Residential (MF)"
   ]
  },
  {
   "cell_type": "markdown",
   "metadata": {},
   "source": [
    "#### Get hourly pricing period file from above and adjust peak pricing periods for commercial and residential MF sector."
   ]
  },
  {
   "cell_type": "code",
   "execution_count": 86,
   "metadata": {},
   "outputs": [],
   "source": [
    "jan_may = ['jan_mar','apr_may']\n",
    "jan_may_inds = full_year['month'].isin(jan_may)\n",
    "full_year.loc[jan_may_inds, 'month_comm'] = 'jan_may'\n",
    "\n",
    "jun_sept = ['jun','jul_sept']\n",
    "jun_sept_inds = full_year['month'].isin(jun_sept)\n",
    "full_year.loc[jun_sept_inds, 'month_comm'] = 'jun_sept'\n",
    "\n",
    "oct_dec_inds = full_year['month']=='oct_dec'\n",
    "full_year.loc[oct_dec_inds, 'month_comm'] = 'oct_dec'"
   ]
  },
  {
   "cell_type": "code",
   "execution_count": 87,
   "metadata": {},
   "outputs": [],
   "source": [
    "month_period_comm = full_year.groupby(['month_comm', 'period'])"
   ]
  },
  {
   "cell_type": "markdown",
   "metadata": {},
   "source": [
    "#### Create hourly rate profile for commercial and res mf and save csv."
   ]
  },
  {
   "cell_type": "markdown",
   "metadata": {},
   "source": [
    "##### Read in commercial TOU rate."
   ]
  },
  {
   "cell_type": "code",
   "execution_count": 88,
   "metadata": {},
   "outputs": [],
   "source": [
    "comm_tou_rate_lookup = pd.read_csv('data/comm_retail_rate_tou_lookup.csv')"
   ]
  },
  {
   "cell_type": "markdown",
   "metadata": {},
   "source": [
    "##### Construct hourly rate profile for rates A-1, A-2, and R-3."
   ]
  },
  {
   "cell_type": "code",
   "execution_count": 89,
   "metadata": {},
   "outputs": [],
   "source": [
    "a2_inds = comm_tou_rate_lookup['rate']=='A2'\n",
    "jan_may_inds = comm_tou_rate_lookup['month']=='jan_may'\n",
    "jun_sept_inds = comm_tou_rate_lookup['month']=='jun_sept'\n",
    "oct_dec_inds = comm_tou_rate_lookup['month']=='oct_dec'"
   ]
  },
  {
   "cell_type": "code",
   "execution_count": 90,
   "metadata": {},
   "outputs": [],
   "source": [
    "comm_hourly_tou_rate = pd.DataFrame()\n",
    "\n",
    "for name, group in month_period_comm:\n",
    "    month_comm = name[0]\n",
    "    period = name[1]\n",
    "    month_comm_inds = comm_tou_rate_lookup['month'] == month_comm\n",
    "    \n",
    "    small_comm_rate_inds = comm_tou_rate_lookup['rate'] == 'A1'\n",
    "    large_comm_rate_inds = comm_tou_rate_lookup['rate'] == 'A2'\n",
    "    mf_rate_inds = comm_tou_rate_lookup['rate'] == 'R3'\n",
    "    \n",
    "    small_comm_rate = comm_tou_rate_lookup.loc[month_comm_inds & small_comm_rate_inds, period].item()\n",
    "    large_comm_rate = comm_tou_rate_lookup.loc[month_comm_inds & large_comm_rate_inds, period].item()\n",
    "    mf_rate = comm_tou_rate_lookup.loc[month_comm_inds & mf_rate_inds, period].item()\n",
    "    \n",
    "    #Convert 2021$ to 2018$ (0.96/1) and mulitply by 1000 to get price per MWh or MW.\n",
    "    group['rate_small_comm'] = small_comm_rate * 0.96 * 1000\n",
    "    group['rate_large_comm'] = large_comm_rate * 0.96 * 1000\n",
    "    group['rate_mf'] = mf_rate * 0.96 * 1000\n",
    "\n",
    "    comm_hourly_tou_rate = pd.concat([comm_hourly_tou_rate, group])\n",
    "    \n",
    "comm_hourly_tou_rate['units'] = '2018$/MWh'\n",
    "comm_hourly_tou_rate = comm_hourly_tou_rate.sort_index()"
   ]
  },
  {
   "cell_type": "code",
   "execution_count": 91,
   "metadata": {},
   "outputs": [
    {
     "data": {
      "text/html": [
       "<div>\n",
       "<style scoped>\n",
       "    .dataframe tbody tr th:only-of-type {\n",
       "        vertical-align: middle;\n",
       "    }\n",
       "\n",
       "    .dataframe tbody tr th {\n",
       "        vertical-align: top;\n",
       "    }\n",
       "\n",
       "    .dataframe thead th {\n",
       "        text-align: right;\n",
       "    }\n",
       "</style>\n",
       "<table border=\"1\" class=\"dataframe\">\n",
       "  <thead>\n",
       "    <tr style=\"text-align: right;\">\n",
       "      <th></th>\n",
       "      <th>day</th>\n",
       "      <th>hour_starting</th>\n",
       "      <th>period</th>\n",
       "      <th>month</th>\n",
       "      <th>month_comm</th>\n",
       "      <th>rate_small_comm</th>\n",
       "      <th>rate_large_comm</th>\n",
       "      <th>rate_mf</th>\n",
       "      <th>units</th>\n",
       "    </tr>\n",
       "  </thead>\n",
       "  <tbody>\n",
       "    <tr>\n",
       "      <th>0</th>\n",
       "      <td>tues</td>\n",
       "      <td>0</td>\n",
       "      <td>base</td>\n",
       "      <td>jan_mar</td>\n",
       "      <td>jan_may</td>\n",
       "      <td>67.9872</td>\n",
       "      <td>37.3920</td>\n",
       "      <td>44.5248</td>\n",
       "      <td>2018$/MWh</td>\n",
       "    </tr>\n",
       "    <tr>\n",
       "      <th>1</th>\n",
       "      <td>tues</td>\n",
       "      <td>1</td>\n",
       "      <td>base</td>\n",
       "      <td>jan_mar</td>\n",
       "      <td>jan_may</td>\n",
       "      <td>67.9872</td>\n",
       "      <td>37.3920</td>\n",
       "      <td>44.5248</td>\n",
       "      <td>2018$/MWh</td>\n",
       "    </tr>\n",
       "    <tr>\n",
       "      <th>2</th>\n",
       "      <td>tues</td>\n",
       "      <td>2</td>\n",
       "      <td>base</td>\n",
       "      <td>jan_mar</td>\n",
       "      <td>jan_may</td>\n",
       "      <td>67.9872</td>\n",
       "      <td>37.3920</td>\n",
       "      <td>44.5248</td>\n",
       "      <td>2018$/MWh</td>\n",
       "    </tr>\n",
       "    <tr>\n",
       "      <th>3</th>\n",
       "      <td>tues</td>\n",
       "      <td>3</td>\n",
       "      <td>base</td>\n",
       "      <td>jan_mar</td>\n",
       "      <td>jan_may</td>\n",
       "      <td>67.9872</td>\n",
       "      <td>37.3920</td>\n",
       "      <td>44.5248</td>\n",
       "      <td>2018$/MWh</td>\n",
       "    </tr>\n",
       "    <tr>\n",
       "      <th>4</th>\n",
       "      <td>tues</td>\n",
       "      <td>4</td>\n",
       "      <td>base</td>\n",
       "      <td>jan_mar</td>\n",
       "      <td>jan_may</td>\n",
       "      <td>67.9872</td>\n",
       "      <td>37.3920</td>\n",
       "      <td>44.5248</td>\n",
       "      <td>2018$/MWh</td>\n",
       "    </tr>\n",
       "    <tr>\n",
       "      <th>...</th>\n",
       "      <td>...</td>\n",
       "      <td>...</td>\n",
       "      <td>...</td>\n",
       "      <td>...</td>\n",
       "      <td>...</td>\n",
       "      <td>...</td>\n",
       "      <td>...</td>\n",
       "      <td>...</td>\n",
       "      <td>...</td>\n",
       "    </tr>\n",
       "    <tr>\n",
       "      <th>8755</th>\n",
       "      <td>tues</td>\n",
       "      <td>19</td>\n",
       "      <td>low</td>\n",
       "      <td>oct_dec</td>\n",
       "      <td>oct_dec</td>\n",
       "      <td>96.0000</td>\n",
       "      <td>54.6048</td>\n",
       "      <td>44.5248</td>\n",
       "      <td>2018$/MWh</td>\n",
       "    </tr>\n",
       "    <tr>\n",
       "      <th>8756</th>\n",
       "      <td>tues</td>\n",
       "      <td>20</td>\n",
       "      <td>base</td>\n",
       "      <td>oct_dec</td>\n",
       "      <td>oct_dec</td>\n",
       "      <td>67.9872</td>\n",
       "      <td>37.3920</td>\n",
       "      <td>44.5248</td>\n",
       "      <td>2018$/MWh</td>\n",
       "    </tr>\n",
       "    <tr>\n",
       "      <th>8757</th>\n",
       "      <td>tues</td>\n",
       "      <td>21</td>\n",
       "      <td>base</td>\n",
       "      <td>oct_dec</td>\n",
       "      <td>oct_dec</td>\n",
       "      <td>67.9872</td>\n",
       "      <td>37.3920</td>\n",
       "      <td>44.5248</td>\n",
       "      <td>2018$/MWh</td>\n",
       "    </tr>\n",
       "    <tr>\n",
       "      <th>8758</th>\n",
       "      <td>tues</td>\n",
       "      <td>22</td>\n",
       "      <td>base</td>\n",
       "      <td>oct_dec</td>\n",
       "      <td>oct_dec</td>\n",
       "      <td>67.9872</td>\n",
       "      <td>37.3920</td>\n",
       "      <td>44.5248</td>\n",
       "      <td>2018$/MWh</td>\n",
       "    </tr>\n",
       "    <tr>\n",
       "      <th>8759</th>\n",
       "      <td>tues</td>\n",
       "      <td>23</td>\n",
       "      <td>base</td>\n",
       "      <td>oct_dec</td>\n",
       "      <td>oct_dec</td>\n",
       "      <td>67.9872</td>\n",
       "      <td>37.3920</td>\n",
       "      <td>44.5248</td>\n",
       "      <td>2018$/MWh</td>\n",
       "    </tr>\n",
       "  </tbody>\n",
       "</table>\n",
       "<p>8760 rows × 9 columns</p>\n",
       "</div>"
      ],
      "text/plain": [
       "       day  hour_starting period    month month_comm  rate_small_comm  \\\n",
       "0     tues              0   base  jan_mar    jan_may          67.9872   \n",
       "1     tues              1   base  jan_mar    jan_may          67.9872   \n",
       "2     tues              2   base  jan_mar    jan_may          67.9872   \n",
       "3     tues              3   base  jan_mar    jan_may          67.9872   \n",
       "4     tues              4   base  jan_mar    jan_may          67.9872   \n",
       "...    ...            ...    ...      ...        ...              ...   \n",
       "8755  tues             19    low  oct_dec    oct_dec          96.0000   \n",
       "8756  tues             20   base  oct_dec    oct_dec          67.9872   \n",
       "8757  tues             21   base  oct_dec    oct_dec          67.9872   \n",
       "8758  tues             22   base  oct_dec    oct_dec          67.9872   \n",
       "8759  tues             23   base  oct_dec    oct_dec          67.9872   \n",
       "\n",
       "      rate_large_comm  rate_mf      units  \n",
       "0             37.3920  44.5248  2018$/MWh  \n",
       "1             37.3920  44.5248  2018$/MWh  \n",
       "2             37.3920  44.5248  2018$/MWh  \n",
       "3             37.3920  44.5248  2018$/MWh  \n",
       "4             37.3920  44.5248  2018$/MWh  \n",
       "...               ...      ...        ...  \n",
       "8755          54.6048  44.5248  2018$/MWh  \n",
       "8756          37.3920  44.5248  2018$/MWh  \n",
       "8757          37.3920  44.5248  2018$/MWh  \n",
       "8758          37.3920  44.5248  2018$/MWh  \n",
       "8759          37.3920  44.5248  2018$/MWh  \n",
       "\n",
       "[8760 rows x 9 columns]"
      ]
     },
     "execution_count": 91,
     "metadata": {},
     "output_type": "execute_result"
    }
   ],
   "source": [
    "comm_hourly_tou_rate"
   ]
  },
  {
   "cell_type": "code",
   "execution_count": 92,
   "metadata": {},
   "outputs": [],
   "source": [
    "comm_hourly_tou_rate.to_csv('data/ladwp_comm_hourly_tou_rate.csv')"
   ]
  },
  {
   "cell_type": "markdown",
   "metadata": {},
   "source": [
    "#### Calculate annual demand charge savings for commercial and res mf EE measures and save csv."
   ]
  },
  {
   "cell_type": "markdown",
   "metadata": {},
   "source": [
    "##### Read in file with 1) resource ratios of demand charge savings to capacity and 2) demand charge rates based on monthly peak."
   ]
  },
  {
   "cell_type": "code",
   "execution_count": 125,
   "metadata": {},
   "outputs": [],
   "source": [
    "demand_charge_rates = pd.read_csv('data/demand_charge_monthly_peak_ratios.csv')"
   ]
  },
  {
   "cell_type": "code",
   "execution_count": 126,
   "metadata": {},
   "outputs": [],
   "source": [
    "#Add in demand charge rate based on yearly peak (incurred monthly), which is the same for A-1, A-2, and R-3 rates. Convert from $2021 to $2018.\n",
    "demand_charge_rates['yearly_peak_demand_charge_per_mw'] = 5.36 * 0.96 * 1000\n",
    "\n",
    "comm_demand_charge_rates = demand_charge_rates[['hvac', 'refrigeration','comm_high_peak_demand_charge_per_mw',\n",
    "       'comm_low_peak_demand_charge_per_mw', 'yearly_peak_demand_charge_per_mw']]"
   ]
  },
  {
   "cell_type": "code",
   "execution_count": 127,
   "metadata": {},
   "outputs": [],
   "source": [
    "mf_demand_charge_rates = demand_charge_rates[['lighting', 'hvac', 'refrigeration','mf_demand_charge_per_mw', 'yearly_peak_demand_charge_per_mw']]"
   ]
  },
  {
   "cell_type": "code",
   "execution_count": 128,
   "metadata": {},
   "outputs": [
    {
     "name": "stderr",
     "output_type": "stream",
     "text": [
      "<ipython-input-128-be461562e560>:2: SettingWithCopyWarning: \n",
      "A value is trying to be set on a copy of a slice from a DataFrame.\n",
      "Try using .loc[row_indexer,col_indexer] = value instead\n",
      "\n",
      "See the caveats in the documentation: https://pandas.pydata.org/pandas-docs/stable/user_guide/indexing.html#returning-a-view-versus-a-copy\n",
      "  mf_demand_charge_rates['lighting_yearly_peak_demand_charge_mw'] = 1*mf_demand_charge_rates['yearly_peak_demand_charge_per_mw']\n"
     ]
    }
   ],
   "source": [
    "#Calculate res MF demand charge savings in each month based on yearly peak (for lighting, hvac, refrigeration). Yearly peak savings as a fraction of capacity are represented by the peak ratio in the hvac, refrig, and lighting columns.\n",
    "mf_demand_charge_rates['lighting_yearly_peak_demand_charge_mw'] = 1*mf_demand_charge_rates['yearly_peak_demand_charge_per_mw']\n",
    "mf_demand_charge_rates['hvac_yearly_peak_demand_charge_mw'] = 0.5*mf_demand_charge_rates['yearly_peak_demand_charge_per_mw']\n",
    "mf_demand_charge_rates['refrigeration_yearly_peak_demand_charge_mw'] = 0.5*mf_demand_charge_rates['yearly_peak_demand_charge_per_mw']"
   ]
  },
  {
   "cell_type": "code",
   "execution_count": 129,
   "metadata": {},
   "outputs": [],
   "source": [
    "#Calculate demand charge savings in each month based on monthly peak (refrig, hvac, lighting).\n",
    "mf_demand_charge_rates['lighting_monthly_peak_demand_charge_mw'] = mf_demand_charge_rates['lighting']*mf_demand_charge_rates['mf_demand_charge_per_mw']\n",
    "mf_demand_charge_rates['refrigeration_monthly_peak_demand_charge_mw'] = mf_demand_charge_rates['refrigeration']*mf_demand_charge_rates['mf_demand_charge_per_mw']\n",
    "mf_demand_charge_rates['hvac_monthly_peak_demand_charge_mw'] = mf_demand_charge_rates['hvac']*mf_demand_charge_rates['mf_demand_charge_per_mw']\n"
   ]
  },
  {
   "cell_type": "code",
   "execution_count": 130,
   "metadata": {},
   "outputs": [
    {
     "name": "stderr",
     "output_type": "stream",
     "text": [
      "<ipython-input-130-72d5a74cb17f>:2: SettingWithCopyWarning: \n",
      "A value is trying to be set on a copy of a slice from a DataFrame.\n",
      "Try using .loc[row_indexer,col_indexer] = value instead\n",
      "\n",
      "See the caveats in the documentation: https://pandas.pydata.org/pandas-docs/stable/user_guide/indexing.html#returning-a-view-versus-a-copy\n",
      "  comm_demand_charge_rates['hvac_yearly_peak_demand_charge_mw'] = 0.5*comm_demand_charge_rates['yearly_peak_demand_charge_per_mw']\n"
     ]
    }
   ],
   "source": [
    "#Calculate demand charge savings in each month based on yearly peak (for lighting, hvac, refrigeration). Yearly peak savings as a fraction of capacity are represented by the peak ratio in the hvac and refrig columns.\n",
    "comm_demand_charge_rates['hvac_yearly_peak_demand_charge_mw'] = 0.5*comm_demand_charge_rates['yearly_peak_demand_charge_per_mw']\n",
    "comm_demand_charge_rates['refrigeration_yearly_peak_demand_charge_mw'] = 0.5*comm_demand_charge_rates['yearly_peak_demand_charge_per_mw']\n"
   ]
  },
  {
   "cell_type": "code",
   "execution_count": 131,
   "metadata": {},
   "outputs": [],
   "source": [
    "#Calculate demand charge savings in each month based on monthly high peak (comm refrig and hvac).\n",
    "comm_demand_charge_rates['refrigeration_high_peak_demand_charge_mw'] = comm_demand_charge_rates['refrigeration']*comm_demand_charge_rates['comm_high_peak_demand_charge_per_mw']\n",
    "comm_demand_charge_rates['hvac_high_peak_demand_charge_mw'] = comm_demand_charge_rates['hvac']*comm_demand_charge_rates['comm_high_peak_demand_charge_per_mw']\n"
   ]
  },
  {
   "cell_type": "code",
   "execution_count": 132,
   "metadata": {},
   "outputs": [],
   "source": [
    "#Calculate demand charge savings in each month based on monthly low peak (for comm refrig and hvac).\n",
    "comm_demand_charge_rates['refrigeration_low_peak_demand_charge_mw'] = comm_demand_charge_rates['refrigeration']*comm_demand_charge_rates['comm_low_peak_demand_charge_per_mw']\n",
    "comm_demand_charge_rates['hvac_low_peak_demand_charge_mw'] = comm_demand_charge_rates['hvac']*comm_demand_charge_rates['comm_low_peak_demand_charge_per_mw']"
   ]
  },
  {
   "cell_type": "code",
   "execution_count": 133,
   "metadata": {},
   "outputs": [],
   "source": [
    "comm_demand_charge_savings = comm_demand_charge_rates.sum().reset_index()"
   ]
  },
  {
   "cell_type": "code",
   "execution_count": 135,
   "metadata": {},
   "outputs": [],
   "source": [
    "comm_demand_charge_savings = comm_demand_charge_savings.iloc[5:]"
   ]
  },
  {
   "cell_type": "code",
   "execution_count": 137,
   "metadata": {},
   "outputs": [
    {
     "name": "stderr",
     "output_type": "stream",
     "text": [
      "/opt/anaconda3/lib/python3.8/site-packages/pandas/core/frame.py:4295: SettingWithCopyWarning: \n",
      "A value is trying to be set on a copy of a slice from a DataFrame\n",
      "\n",
      "See the caveats in the documentation: https://pandas.pydata.org/pandas-docs/stable/user_guide/indexing.html#returning-a-view-versus-a-copy\n",
      "  return super().rename(\n"
     ]
    }
   ],
   "source": [
    "comm_demand_charge_savings.rename(columns={'index':'resource_peakperiod', 0:'demand_charge_savings_per_mw'},inplace=True)"
   ]
  },
  {
   "cell_type": "code",
   "execution_count": 138,
   "metadata": {},
   "outputs": [],
   "source": [
    "comm_demand_charge_savings.to_csv('data/comm_annual_demand_charge_savings.csv')"
   ]
  },
  {
   "cell_type": "code",
   "execution_count": 140,
   "metadata": {},
   "outputs": [],
   "source": [
    "mf_demand_charge_savings = mf_demand_charge_rates.sum().reset_index()"
   ]
  },
  {
   "cell_type": "code",
   "execution_count": 143,
   "metadata": {},
   "outputs": [],
   "source": [
    "mf_demand_charge_savings = mf_demand_charge_savings.iloc[5:]"
   ]
  },
  {
   "cell_type": "code",
   "execution_count": 144,
   "metadata": {},
   "outputs": [
    {
     "name": "stderr",
     "output_type": "stream",
     "text": [
      "/opt/anaconda3/lib/python3.8/site-packages/pandas/core/frame.py:4295: SettingWithCopyWarning: \n",
      "A value is trying to be set on a copy of a slice from a DataFrame\n",
      "\n",
      "See the caveats in the documentation: https://pandas.pydata.org/pandas-docs/stable/user_guide/indexing.html#returning-a-view-versus-a-copy\n",
      "  return super().rename(\n"
     ]
    }
   ],
   "source": [
    "mf_demand_charge_savings.rename(columns={'index':'resource_peakperiod', 0:'demand_charge_savings_per_mw'},inplace=True)"
   ]
  },
  {
   "cell_type": "code",
   "execution_count": 145,
   "metadata": {},
   "outputs": [
    {
     "data": {
      "text/html": [
       "<div>\n",
       "<style scoped>\n",
       "    .dataframe tbody tr th:only-of-type {\n",
       "        vertical-align: middle;\n",
       "    }\n",
       "\n",
       "    .dataframe tbody tr th {\n",
       "        vertical-align: top;\n",
       "    }\n",
       "\n",
       "    .dataframe thead th {\n",
       "        text-align: right;\n",
       "    }\n",
       "</style>\n",
       "<table border=\"1\" class=\"dataframe\">\n",
       "  <thead>\n",
       "    <tr style=\"text-align: right;\">\n",
       "      <th></th>\n",
       "      <th>resource_peakperiod</th>\n",
       "      <th>demand_charge_savings_per_mw</th>\n",
       "    </tr>\n",
       "  </thead>\n",
       "  <tbody>\n",
       "    <tr>\n",
       "      <th>5</th>\n",
       "      <td>lighting_yearly_peak_demand_charge_mw</td>\n",
       "      <td>61747.2</td>\n",
       "    </tr>\n",
       "    <tr>\n",
       "      <th>6</th>\n",
       "      <td>hvac_yearly_peak_demand_charge_mw</td>\n",
       "      <td>30873.6</td>\n",
       "    </tr>\n",
       "    <tr>\n",
       "      <th>7</th>\n",
       "      <td>refrigeration_yearly_peak_demand_charge_mw</td>\n",
       "      <td>30873.6</td>\n",
       "    </tr>\n",
       "    <tr>\n",
       "      <th>8</th>\n",
       "      <td>lighting_monthly_peak_demand_charge_mw</td>\n",
       "      <td>90400.0</td>\n",
       "    </tr>\n",
       "    <tr>\n",
       "      <th>9</th>\n",
       "      <td>refrigeration_monthly_peak_demand_charge_mw</td>\n",
       "      <td>45200.0</td>\n",
       "    </tr>\n",
       "    <tr>\n",
       "      <th>10</th>\n",
       "      <td>hvac_monthly_peak_demand_charge_mw</td>\n",
       "      <td>30989.0</td>\n",
       "    </tr>\n",
       "  </tbody>\n",
       "</table>\n",
       "</div>"
      ],
      "text/plain": [
       "                            resource_peakperiod  demand_charge_savings_per_mw\n",
       "5         lighting_yearly_peak_demand_charge_mw                       61747.2\n",
       "6             hvac_yearly_peak_demand_charge_mw                       30873.6\n",
       "7    refrigeration_yearly_peak_demand_charge_mw                       30873.6\n",
       "8        lighting_monthly_peak_demand_charge_mw                       90400.0\n",
       "9   refrigeration_monthly_peak_demand_charge_mw                       45200.0\n",
       "10           hvac_monthly_peak_demand_charge_mw                       30989.0"
      ]
     },
     "execution_count": 145,
     "metadata": {},
     "output_type": "execute_result"
    }
   ],
   "source": [
    "mf_demand_charge_savings"
   ]
  },
  {
   "cell_type": "code",
   "execution_count": 146,
   "metadata": {},
   "outputs": [],
   "source": [
    "mf_demand_charge_savings.to_csv('data/mf_annual_demand_charge_savings.csv')"
   ]
  },
  {
   "cell_type": "code",
   "execution_count": null,
   "metadata": {},
   "outputs": [],
   "source": []
  }
 ],
 "metadata": {
  "kernelspec": {
   "display_name": "Python 3",
   "language": "python",
   "name": "python3"
  },
  "language_info": {
   "codemirror_mode": {
    "name": "ipython",
    "version": 3
   },
   "file_extension": ".py",
   "mimetype": "text/x-python",
   "name": "python",
   "nbconvert_exporter": "python",
   "pygments_lexer": "ipython3",
   "version": "3.8.3"
  }
 },
 "nbformat": 4,
 "nbformat_minor": 4
}
