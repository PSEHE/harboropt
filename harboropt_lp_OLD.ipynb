{
 "cells": [
  {
   "cell_type": "markdown",
   "metadata": {},
   "source": [
    "## Testing the linear program against DOSCOE\n",
    "\n",
    "To test the logic of my linear program, I use cost inputs and other parameters from the Google DOSCOE paper and compare the results. Some elements of the code (ex. storage) are altered in order to compare the programs directly."
   ]
  },
  {
   "cell_type": "code",
   "execution_count": 2,
   "metadata": {},
   "outputs": [],
   "source": [
    "%reload_ext autoreload\n",
    "%autoreload 2\n",
    "\n",
    "import numpy as np # numerical library\n",
    "import matplotlib.pyplot as plt # plotting library\n",
    "import datetime as dt\n",
    "import pandas as pd\n",
    "\n",
    "from ortools.linear_solver import pywraplp"
   ]
  },
  {
   "cell_type": "code",
   "execution_count": 3,
   "metadata": {},
   "outputs": [],
   "source": [
    "import utils"
   ]
  },
  {
   "cell_type": "code",
   "execution_count": 4,
   "metadata": {},
   "outputs": [],
   "source": [
    "#Changeable parameters.\n",
    "\n",
    "battery_duration = 4\n",
    "initial_state_of_charge = 0\n",
    "timespan = 30\n",
    "discount_rate = 0.06\n",
    "gas_fuel_cost = 4\n",
    "cost = \"1\""
   ]
  },
  {
   "cell_type": "code",
   "execution_count": 5,
   "metadata": {},
   "outputs": [],
   "source": [
    "doscoe_solver = pywraplp.Solver('HarborOptimization',\n",
    "                         pywraplp.Solver.GLOP_LINEAR_PROGRAMMING)\n",
    "\n",
    "#Introduce objective object so we can refer to it in the for loop.\n",
    "objective = doscoe_solver.Objective()"
   ]
  },
  {
   "cell_type": "code",
   "execution_count": 6,
   "metadata": {},
   "outputs": [],
   "source": [
    "# Load generation profiles for nondispatchable resources (KWh generated each hour by 1 KW of capacity).\n",
    "profiles = pd.read_csv('data/doscoe_profiles.csv')"
   ]
  },
  {
   "cell_type": "code",
   "execution_count": 7,
   "metadata": {},
   "outputs": [
    {
     "data": {
      "text/html": [
       "<div>\n",
       "<style scoped>\n",
       "    .dataframe tbody tr th:only-of-type {\n",
       "        vertical-align: middle;\n",
       "    }\n",
       "\n",
       "    .dataframe tbody tr th {\n",
       "        vertical-align: top;\n",
       "    }\n",
       "\n",
       "    .dataframe thead th {\n",
       "        text-align: right;\n",
       "    }\n",
       "</style>\n",
       "<table border=\"1\" class=\"dataframe\">\n",
       "  <thead>\n",
       "    <tr style=\"text-align: right;\">\n",
       "      <th></th>\n",
       "      <th>DEMAND</th>\n",
       "      <th>SOLAR</th>\n",
       "      <th>WIND</th>\n",
       "      <th>COAL</th>\n",
       "      <th>COAL_CRYO</th>\n",
       "      <th>COAL_AMINE</th>\n",
       "      <th>NUCLEAR</th>\n",
       "    </tr>\n",
       "  </thead>\n",
       "  <tbody>\n",
       "    <tr>\n",
       "      <th>0</th>\n",
       "      <td>29309.5</td>\n",
       "      <td>531.90</td>\n",
       "      <td>9697.45</td>\n",
       "      <td>57747</td>\n",
       "      <td>57747</td>\n",
       "      <td>57747</td>\n",
       "      <td>115494</td>\n",
       "    </tr>\n",
       "    <tr>\n",
       "      <th>1</th>\n",
       "      <td>30445.5</td>\n",
       "      <td>1.44</td>\n",
       "      <td>10613.87</td>\n",
       "      <td>57747</td>\n",
       "      <td>57747</td>\n",
       "      <td>57747</td>\n",
       "      <td>115494</td>\n",
       "    </tr>\n",
       "    <tr>\n",
       "      <th>2</th>\n",
       "      <td>32716.5</td>\n",
       "      <td>0.00</td>\n",
       "      <td>11480.82</td>\n",
       "      <td>57747</td>\n",
       "      <td>57747</td>\n",
       "      <td>57747</td>\n",
       "      <td>115494</td>\n",
       "    </tr>\n",
       "    <tr>\n",
       "      <th>3</th>\n",
       "      <td>34456.5</td>\n",
       "      <td>0.00</td>\n",
       "      <td>11863.41</td>\n",
       "      <td>57747</td>\n",
       "      <td>57747</td>\n",
       "      <td>57747</td>\n",
       "      <td>115494</td>\n",
       "    </tr>\n",
       "    <tr>\n",
       "      <th>4</th>\n",
       "      <td>34098.0</td>\n",
       "      <td>0.00</td>\n",
       "      <td>12546.18</td>\n",
       "      <td>57747</td>\n",
       "      <td>57747</td>\n",
       "      <td>57747</td>\n",
       "      <td>115494</td>\n",
       "    </tr>\n",
       "  </tbody>\n",
       "</table>\n",
       "</div>"
      ],
      "text/plain": [
       "    DEMAND   SOLAR      WIND   COAL  COAL_CRYO  COAL_AMINE  NUCLEAR\n",
       "0  29309.5  531.90   9697.45  57747      57747       57747   115494\n",
       "1  30445.5    1.44  10613.87  57747      57747       57747   115494\n",
       "2  32716.5    0.00  11480.82  57747      57747       57747   115494\n",
       "3  34456.5    0.00  11863.41  57747      57747       57747   115494\n",
       "4  34098.0    0.00  12546.18  57747      57747       57747   115494"
      ]
     },
     "execution_count": 7,
     "metadata": {},
     "output_type": "execute_result"
    }
   ],
   "source": [
    "profiles.head()"
   ]
  },
  {
   "cell_type": "code",
   "execution_count": 8,
   "metadata": {},
   "outputs": [
    {
     "data": {
      "text/html": [
       "<div>\n",
       "<style scoped>\n",
       "    .dataframe tbody tr th:only-of-type {\n",
       "        vertical-align: middle;\n",
       "    }\n",
       "\n",
       "    .dataframe tbody tr th {\n",
       "        vertical-align: top;\n",
       "    }\n",
       "\n",
       "    .dataframe thead th {\n",
       "        text-align: right;\n",
       "    }\n",
       "</style>\n",
       "<table border=\"1\" class=\"dataframe\">\n",
       "  <thead>\n",
       "    <tr style=\"text-align: right;\">\n",
       "      <th></th>\n",
       "      <th>legacy</th>\n",
       "      <th>existing_mw</th>\n",
       "      <th>dispatchable</th>\n",
       "      <th>capex</th>\n",
       "      <th>fixed</th>\n",
       "      <th>variable</th>\n",
       "      <th>heat_rate</th>\n",
       "      <th>CO2</th>\n",
       "    </tr>\n",
       "  </thead>\n",
       "  <tbody>\n",
       "    <tr>\n",
       "      <th>COAL</th>\n",
       "      <td>n</td>\n",
       "      <td>NaN</td>\n",
       "      <td>n</td>\n",
       "      <td>2934000</td>\n",
       "      <td>31180</td>\n",
       "      <td>23.30</td>\n",
       "      <td>8.80</td>\n",
       "      <td>0.86</td>\n",
       "    </tr>\n",
       "    <tr>\n",
       "      <th>HYDROPOWER</th>\n",
       "      <td>y</td>\n",
       "      <td>9590.0</td>\n",
       "      <td>y</td>\n",
       "      <td>0</td>\n",
       "      <td>14930</td>\n",
       "      <td>2.66</td>\n",
       "      <td>0.00</td>\n",
       "      <td>0.00</td>\n",
       "    </tr>\n",
       "    <tr>\n",
       "      <th>NGCC</th>\n",
       "      <td>n</td>\n",
       "      <td>NaN</td>\n",
       "      <td>y</td>\n",
       "      <td>1094000</td>\n",
       "      <td>9940</td>\n",
       "      <td>1.99</td>\n",
       "      <td>6.20</td>\n",
       "      <td>0.33</td>\n",
       "    </tr>\n",
       "    <tr>\n",
       "      <th>NGCT</th>\n",
       "      <td>n</td>\n",
       "      <td>NaN</td>\n",
       "      <td>y</td>\n",
       "      <td>672000</td>\n",
       "      <td>6760</td>\n",
       "      <td>10.64</td>\n",
       "      <td>8.55</td>\n",
       "      <td>0.45</td>\n",
       "    </tr>\n",
       "    <tr>\n",
       "      <th>NUCLEAR</th>\n",
       "      <td>n</td>\n",
       "      <td>NaN</td>\n",
       "      <td>n</td>\n",
       "      <td>3500000</td>\n",
       "      <td>80000</td>\n",
       "      <td>12.00</td>\n",
       "      <td>0.00</td>\n",
       "      <td>0.00</td>\n",
       "    </tr>\n",
       "    <tr>\n",
       "      <th>SOLAR</th>\n",
       "      <td>n</td>\n",
       "      <td>NaN</td>\n",
       "      <td>n</td>\n",
       "      <td>1040000</td>\n",
       "      <td>21660</td>\n",
       "      <td>0.00</td>\n",
       "      <td>0.00</td>\n",
       "      <td>0.00</td>\n",
       "    </tr>\n",
       "    <tr>\n",
       "      <th>WIND</th>\n",
       "      <td>n</td>\n",
       "      <td>NaN</td>\n",
       "      <td>n</td>\n",
       "      <td>1500000</td>\n",
       "      <td>46710</td>\n",
       "      <td>0.00</td>\n",
       "      <td>0.00</td>\n",
       "      <td>0.00</td>\n",
       "    </tr>\n",
       "  </tbody>\n",
       "</table>\n",
       "</div>"
      ],
      "text/plain": [
       "           legacy  existing_mw dispatchable    capex  fixed  variable  \\\n",
       "COAL            n          NaN            n  2934000  31180     23.30   \n",
       "HYDROPOWER      y       9590.0            y        0  14930      2.66   \n",
       "NGCC            n          NaN            y  1094000   9940      1.99   \n",
       "NGCT            n          NaN            y   672000   6760     10.64   \n",
       "NUCLEAR         n          NaN            n  3500000  80000     12.00   \n",
       "SOLAR           n          NaN            n  1040000  21660      0.00   \n",
       "WIND            n          NaN            n  1500000  46710      0.00   \n",
       "\n",
       "            heat_rate   CO2  \n",
       "COAL             8.80  0.86  \n",
       "HYDROPOWER       0.00  0.00  \n",
       "NGCC             6.20  0.33  \n",
       "NGCT             8.55  0.45  \n",
       "NUCLEAR          0.00  0.00  \n",
       "SOLAR            0.00  0.00  \n",
       "WIND             0.00  0.00  "
      ]
     },
     "execution_count": 8,
     "metadata": {},
     "output_type": "execute_result"
    }
   ],
   "source": [
    "resources = pd.read_csv('data/doscoe_resources.csv')\n",
    "resources\n",
    "resources = resources[resources['resource'].str.contains('_0|_2') == False]\n",
    "resources\n",
    "resources = resources.set_index('resource')     \n",
    "resources.index = [resource.replace('_'+cost,'') for resource in resources.index]\n",
    "resources\n"
   ]
  },
  {
   "cell_type": "code",
   "execution_count": 9,
   "metadata": {},
   "outputs": [],
   "source": [
    "exclusion_str = []\n",
    "for i in range(3):\n",
    "    if not i == 1:\n",
    "        exclusion_str.append(\"_{}\".format(i))\n",
    "exclusion_str = \"|\".join(exclusion_str)"
   ]
  },
  {
   "cell_type": "code",
   "execution_count": 10,
   "metadata": {},
   "outputs": [],
   "source": [
    "exclusion_str = \"|\".join(exclusion_str)"
   ]
  },
  {
   "cell_type": "code",
   "execution_count": 11,
   "metadata": {},
   "outputs": [
    {
     "ename": "NameError",
     "evalue": "name 'self' is not defined",
     "output_type": "error",
     "traceback": [
      "\u001b[0;31m---------------------------------------------------------------------------\u001b[0m",
      "\u001b[0;31mNameError\u001b[0m                                 Traceback (most recent call last)",
      "\u001b[0;32m<ipython-input-11-8b0dda6f09ab>\u001b[0m in \u001b[0;36m<module>\u001b[0;34m\u001b[0m\n\u001b[0;32m----> 1\u001b[0;31m \u001b[0mexclusion_str\u001b[0m \u001b[0;34m=\u001b[0m \u001b[0;34m[\u001b[0m\u001b[0;34m\"{}\"\u001b[0m\u001b[0;34m.\u001b[0m\u001b[0mformat\u001b[0m\u001b[0;34m(\u001b[0m\u001b[0mi\u001b[0m\u001b[0;34m)\u001b[0m \u001b[0;32mfor\u001b[0m \u001b[0mi\u001b[0m \u001b[0;32min\u001b[0m \u001b[0mrange\u001b[0m\u001b[0;34m(\u001b[0m\u001b[0;36m2\u001b[0m\u001b[0;34m)\u001b[0m \u001b[0;32mif\u001b[0m \u001b[0;32mnot\u001b[0m \u001b[0mi\u001b[0m \u001b[0;34m==\u001b[0m \u001b[0mself\u001b[0m\u001b[0;34m.\u001b[0m\u001b[0mcost\u001b[0m\u001b[0;34m]\u001b[0m\u001b[0;34m\u001b[0m\u001b[0;34m\u001b[0m\u001b[0m\n\u001b[0m",
      "\u001b[0;32m<ipython-input-11-8b0dda6f09ab>\u001b[0m in \u001b[0;36m<listcomp>\u001b[0;34m(.0)\u001b[0m\n\u001b[0;32m----> 1\u001b[0;31m \u001b[0mexclusion_str\u001b[0m \u001b[0;34m=\u001b[0m \u001b[0;34m[\u001b[0m\u001b[0;34m\"{}\"\u001b[0m\u001b[0;34m.\u001b[0m\u001b[0mformat\u001b[0m\u001b[0;34m(\u001b[0m\u001b[0mi\u001b[0m\u001b[0;34m)\u001b[0m \u001b[0;32mfor\u001b[0m \u001b[0mi\u001b[0m \u001b[0;32min\u001b[0m \u001b[0mrange\u001b[0m\u001b[0;34m(\u001b[0m\u001b[0;36m2\u001b[0m\u001b[0;34m)\u001b[0m \u001b[0;32mif\u001b[0m \u001b[0;32mnot\u001b[0m \u001b[0mi\u001b[0m \u001b[0;34m==\u001b[0m \u001b[0mself\u001b[0m\u001b[0;34m.\u001b[0m\u001b[0mcost\u001b[0m\u001b[0;34m]\u001b[0m\u001b[0;34m\u001b[0m\u001b[0;34m\u001b[0m\u001b[0m\n\u001b[0m",
      "\u001b[0;31mNameError\u001b[0m: name 'self' is not defined"
     ]
    }
   ],
   "source": [
    "exclusion_str = [\"{}\".format(i) for i in range(2) if not i == self.cost]"
   ]
  },
  {
   "cell_type": "code",
   "execution_count": 12,
   "metadata": {},
   "outputs": [],
   "source": [
    "# storage = pd.read_csv('data/storage.csv')\n",
    "# storage = storage.set_index('resource')\n",
    "# storage"
   ]
  },
  {
   "cell_type": "code",
   "execution_count": 13,
   "metadata": {},
   "outputs": [],
   "source": [
    "# outofbasin_emissions = pd.read_csv('data/outofbasin_emissions.csv')\n",
    "# outofbasin_emissions.insert(0, 'datetime', harborgen.index)\n",
    "# outofbasin_emissions = outofbasin_emissions.set_index('datetime')\n",
    "# outofbasin_emissions"
   ]
  },
  {
   "cell_type": "code",
   "execution_count": 14,
   "metadata": {},
   "outputs": [],
   "source": [
    "#Hourly monetized grid emissions for the whole LADWP grid will be used to quantify the emissions impacts of storage charging.\n",
    "# whole_grid_emissions = pd.read_csv('data/whole_grid_emissions.csv')\n",
    "# whole_grid_emissions.insert(0, 'datetime', harborgen.index)\n",
    "# whole_grid_emissions = whole_grid_emissions.set_index('datetime')\n",
    "# whole_grid_emissions"
   ]
  },
  {
   "cell_type": "code",
   "execution_count": 15,
   "metadata": {},
   "outputs": [
    {
     "data": {
      "text/plain": [
       "{'COAL': COAL,\n",
       " 'HYDROPOWER': HYDROPOWER,\n",
       " 'NGCC': NGCC,\n",
       " 'NGCT': NGCT,\n",
       " 'NUCLEAR': NUCLEAR,\n",
       " 'SOLAR': SOLAR,\n",
       " 'WIND': WIND}"
      ]
     },
     "execution_count": 15,
     "metadata": {},
     "output_type": "execute_result"
    }
   ],
   "source": [
    "# Declare nameplate capacity variables for each resource in resource cost and storage cost dataframes.\n",
    "capacity_vars = {}\n",
    "for resource in resources.index:\n",
    "    if resources.loc[str(resource)]['legacy'] == 'n':\n",
    "        capacity = doscoe_solver.NumVar(0, doscoe_solver.infinity(), str(resource))\n",
    "        capacity_vars[resource] = capacity\n",
    "    else:\n",
    "        max_hydro = resources.loc[str(resource)]['existing_mw']\n",
    "        capacity = doscoe_solver.NumVar(0, max_hydro, str(resource))\n",
    "        capacity_vars[resource] = capacity\n",
    "\n",
    "# for resource in storage.index:\n",
    "#     capacity = doscoe_solver.NumVar(0, doscoe_solver.infinity(), str(resource))\n",
    "#     capacity_vars[resource] = capacity\n",
    "    \n",
    "capacity_vars"
   ]
  },
  {
   "cell_type": "code",
   "execution_count": 16,
   "metadata": {},
   "outputs": [
    {
     "data": {
      "text/html": [
       "<div>\n",
       "<style scoped>\n",
       "    .dataframe tbody tr th:only-of-type {\n",
       "        vertical-align: middle;\n",
       "    }\n",
       "\n",
       "    .dataframe tbody tr th {\n",
       "        vertical-align: top;\n",
       "    }\n",
       "\n",
       "    .dataframe thead th {\n",
       "        text-align: right;\n",
       "    }\n",
       "</style>\n",
       "<table border=\"1\" class=\"dataframe\">\n",
       "  <thead>\n",
       "    <tr style=\"text-align: right;\">\n",
       "      <th></th>\n",
       "      <th>legacy</th>\n",
       "      <th>existing_mw</th>\n",
       "      <th>dispatchable</th>\n",
       "      <th>capex</th>\n",
       "      <th>fixed</th>\n",
       "      <th>variable</th>\n",
       "      <th>heat_rate</th>\n",
       "      <th>CO2</th>\n",
       "    </tr>\n",
       "  </thead>\n",
       "  <tbody>\n",
       "    <tr>\n",
       "      <th>COAL</th>\n",
       "      <td>n</td>\n",
       "      <td>NaN</td>\n",
       "      <td>n</td>\n",
       "      <td>2934000</td>\n",
       "      <td>31180</td>\n",
       "      <td>23.3</td>\n",
       "      <td>8.8</td>\n",
       "      <td>0.86</td>\n",
       "    </tr>\n",
       "    <tr>\n",
       "      <th>NUCLEAR</th>\n",
       "      <td>n</td>\n",
       "      <td>NaN</td>\n",
       "      <td>n</td>\n",
       "      <td>3500000</td>\n",
       "      <td>80000</td>\n",
       "      <td>12.0</td>\n",
       "      <td>0.0</td>\n",
       "      <td>0.00</td>\n",
       "    </tr>\n",
       "    <tr>\n",
       "      <th>SOLAR</th>\n",
       "      <td>n</td>\n",
       "      <td>NaN</td>\n",
       "      <td>n</td>\n",
       "      <td>1040000</td>\n",
       "      <td>21660</td>\n",
       "      <td>0.0</td>\n",
       "      <td>0.0</td>\n",
       "      <td>0.00</td>\n",
       "    </tr>\n",
       "    <tr>\n",
       "      <th>WIND</th>\n",
       "      <td>n</td>\n",
       "      <td>NaN</td>\n",
       "      <td>n</td>\n",
       "      <td>1500000</td>\n",
       "      <td>46710</td>\n",
       "      <td>0.0</td>\n",
       "      <td>0.0</td>\n",
       "      <td>0.00</td>\n",
       "    </tr>\n",
       "  </tbody>\n",
       "</table>\n",
       "</div>"
      ],
      "text/plain": [
       "        legacy  existing_mw dispatchable    capex  fixed  variable  heat_rate  \\\n",
       "COAL         n          NaN            n  2934000  31180      23.3        8.8   \n",
       "NUCLEAR      n          NaN            n  3500000  80000      12.0        0.0   \n",
       "SOLAR        n          NaN            n  1040000  21660       0.0        0.0   \n",
       "WIND         n          NaN            n  1500000  46710       0.0        0.0   \n",
       "\n",
       "          CO2  \n",
       "COAL     0.86  \n",
       "NUCLEAR  0.00  \n",
       "SOLAR    0.00  \n",
       "WIND     0.00  "
      ]
     },
     "execution_count": 16,
     "metadata": {},
     "output_type": "execute_result"
    }
   ],
   "source": [
    "#Create filtered dataframes for dispatchable and nondispatchable resources.\n",
    "disp = resources.loc[resources['dispatchable'] == 'y']\n",
    "nondisp = resources.loc[resources['dispatchable'] == 'n']\n",
    "nondisp\n"
   ]
  },
  {
   "cell_type": "code",
   "execution_count": 17,
   "metadata": {},
   "outputs": [],
   "source": [
    "#Create a dictionary to hold a list for each dispatchable resource that keeps track of its hourly generation variables.\n",
    "disp_gen = {}\n",
    "for resource in disp.index:\n",
    "    disp_gen[resource] = []"
   ]
  },
  {
   "cell_type": "code",
   "execution_count": 18,
   "metadata": {},
   "outputs": [
    {
     "data": {
      "text/plain": [
       "{'HYDROPOWER': [], 'NGCC': [], 'NGCT': []}"
      ]
     },
     "execution_count": 18,
     "metadata": {},
     "output_type": "execute_result"
    }
   ],
   "source": [
    "disp_gen"
   ]
  },
  {
   "cell_type": "code",
   "execution_count": 19,
   "metadata": {},
   "outputs": [],
   "source": [
    "#Create a dictionary to hold a list for each storage resource that keeps track of its hourly charge variables.\n",
    "# charge_vars = {}\n",
    "# for resource in storage.index:\n",
    "#     charge_vars[resource] = []"
   ]
  },
  {
   "cell_type": "code",
   "execution_count": 20,
   "metadata": {},
   "outputs": [],
   "source": [
    "#Create a dictionary to hold a list for each storage resource that keeps track of its hourly discharge variables.\n",
    "# discharge_vars = {}\n",
    "# for resource in storage.index:\n",
    "#     discharge_vars[resource] = []"
   ]
  },
  {
   "cell_type": "code",
   "execution_count": 21,
   "metadata": {},
   "outputs": [],
   "source": [
    "#Creates a dictionary to track the hourly state of charge of each storage resource. Each value represents the state of charge at the start of each timestep.\n",
    "# state_of_charge_vars = {}\n",
    "# for resource in storage.index:\n",
    "#     state_of_charge_vars[resource] = [] "
   ]
  },
  {
   "cell_type": "code",
   "execution_count": 22,
   "metadata": {},
   "outputs": [],
   "source": [
    "# growth_rate = 1 + discount_rate\n",
    "# variable_cost = 10\n",
    "# discounted_cost = variable_cost / pow(growth_rate, -timespan)            \n",
    "# print(discounted_cost)\n"
   ]
  },
  {
   "cell_type": "code",
   "execution_count": 30,
   "metadata": {},
   "outputs": [
    {
     "name": "stdout",
     "output_type": "stream",
     "text": [
      "14.59072102057877\n"
     ]
    }
   ],
   "source": [
    "cost = 1\n",
    "growth_rate = 1.0 + discount_rate\n",
    "value_decay_1 = pow(growth_rate, -timespan)\n",
    "value_decay_2 = pow(growth_rate, -1)\n",
    "discounting_factor = cost * (1.0 - value_decay_1) / (1.0-value_decay_2)\n",
    "print(discounting_factor)"
   ]
  },
  {
   "cell_type": "code",
   "execution_count": 194,
   "metadata": {},
   "outputs": [
    {
     "name": "stdout",
     "output_type": "stream",
     "text": [
      "339.9637997794853\n",
      "175.08865224694523\n",
      "0.0\n",
      "0.0\n"
     ]
    }
   ],
   "source": [
    "for resource in nondisp.index: \n",
    "    capacity = capacity_vars[resource]\n",
    "    profile_max = max(profiles[resource])\n",
    "    coefficient = profiles.loc[0, resource] / profile_max\n",
    "    fulfill_demand.SetCoefficient(capacity, coefficient)\n",
    "\n",
    "    variable_cost = nondisp.loc[resource,'variable'] * discounting_factor\n",
    "    print(variable_cost)\n"
   ]
  },
  {
   "cell_type": "code",
   "execution_count": 189,
   "metadata": {},
   "outputs": [],
   "source": [
    "hydro_limit = doscoe_solver.Constraint(0, 13808000)\n",
    "\n",
    "#Loop through every hour, creating 1) hourly generation variables for each dispatchable resource, 2) hourly constraints, and 3) adding variable cost coefficients to each hourly generation variable.\n",
    "for ind in profiles.index:\n",
    "    \n",
    "    #Summed generation from all resources must be equal or greater to demand in all hours.\n",
    "    fulfill_demand = doscoe_solver.Constraint(profiles.loc[ind,'DEMAND'], doscoe_solver.infinity())\n",
    "    \n",
    "    #Create hourly charge and discharge variables for each storage resource and store in respective dictionaries. \n",
    "#     for resource in storage.index:\n",
    "        \n",
    "#         #Create hourly charge and discharge variables for each storage resource.\n",
    "#         charge = doscoe_solver.NumVar(0, doscoe_solver.infinity(), '_charge'+ str(ind))\n",
    "#         discharge = doscoe_solver.NumVar(0, doscoe_solver.infinity(), '_discharge'+ str(ind))\n",
    "        \n",
    "#         #Add variable cost of charging and monetized emissions to objective function.\n",
    "#         variable_cost = whole_grid_emissions.loc[ind,'TOTAL/MWH']+ storage.loc[resource,'variable($/MWh)']\n",
    "#         objective.SetCoefficient(charge, variable_cost)\n",
    "        \n",
    "#         #Limit hourly charge and discharge variables to storage max power (MW).\n",
    "#         max_charge = doscoe_solver.Constraint(0, doscoe_solver.infinity())\n",
    "#         max_charge.SetCoefficient(capacity_vars[resource], 1)\n",
    "#         max_charge.SetCoefficient(charge, -1)\n",
    "        \n",
    "#         max_discharge = doscoe_solver.Constraint(0, doscoe_solver.infinity())\n",
    "#         max_discharge.SetCoefficient(capacity_vars[resource], 1)\n",
    "#         max_discharge.SetCoefficient(discharge, -1)\n",
    "        \n",
    "#         #Keep track of hourly charge and discharge variables by appending to lists for each storage resource.\n",
    "#         charge_vars[resource].append(charge)\n",
    "#         discharge_vars[resource].append(discharge)\n",
    "        \n",
    "#         #Hourly discharge variables of storage resources are incorporated into the fulfill demand constraint. If storage can only charge from portfolio resources, include the charge variable in this constraint.\n",
    "#         efficiency = storage.loc[resource, 'efficiency']\n",
    "#         fulfill_demand.SetCoefficient(discharge, efficiency)\n",
    "#         #Include the line below if storage can only charge from portfolio resources.\n",
    "#         #fulfill_demand.SetCoefficient(charge, -1)\n",
    "        \n",
    "#         #Creates hourly state of charge variable, representing the state of charge at the end of each timestep. \n",
    "#         state_of_charge = doscoe_solver.NumVar(0, doscoe_solver.infinity(), 'state_of_charge'+ str(ind))\n",
    "        \n",
    "#         #Temporal coupling of storage state of charge.\n",
    "#         if harborgen.index.get_loc(ind) > 0:\n",
    "#             temporal = doscoe_solver.Constraint(0, 0)\n",
    "#             temporal.SetCoefficient(state_of_charge, -1)\n",
    "#             temporal.SetCoefficient(discharge, -1)\n",
    "#             temporal.SetCoefficient(charge, efficiency)\n",
    "#             #Get the state of charge from previous timestep to include in the temporal coupling constraint.\n",
    "#             previous_state = state_of_charge_vars[resource][-1]\n",
    "#             temporal.SetCoefficient(previous_state, 1)\n",
    "#         else: \n",
    "#             temporal = doscoe_solver.Constraint(initial_state_of_charge, initial_state_of_charge)\n",
    "#             temporal.SetCoefficient(state_of_charge, 1)\n",
    "#             temporal.SetCoefficient(discharge, 1)\n",
    "#             temporal.SetCoefficient(charge, -efficiency)\n",
    "        \n",
    "#         #Add hourly state of charge variable to corresponding list for each storage resource.\n",
    "#         state_of_charge_vars[resource].append(state_of_charge)\n",
    "        \n",
    "#         #Creates constraint setting max for storage state of charge.\n",
    "#         max_storage = doscoe_solver.Constraint(0, doscoe_solver.infinity())\n",
    "#         max_storage.SetCoefficient(state_of_charge, -1)\n",
    "#         max_storage.SetCoefficient(capacity_vars[resource], battery_duration)\n",
    "        \n",
    "#         #Creates constraint ensuring that no net energy is supplied by storage (ending state of charge is equal to initial state of charge).\n",
    "#         if harborgen.index.get_loc(ind) == len(harborgen)-1:\n",
    "#             ending_state = doscoe_solver.Constraint(initial_state_of_charge, initial_state_of_charge)\n",
    "#             ending_state.SetCoefficient(state_of_charge, 1)\n",
    "            \n",
    "\n",
    "    #Create generation variable for each dispatchable resource for every hour. Append hourly gen variable to the list for that resource, located in the disp_gen dictionary.\n",
    "    #Create constraint that generation must be less than or equal to capacity for each dispatchable resource for all hours.\n",
    "    for resource in disp.index:\n",
    "        \n",
    "        gen = doscoe_solver.NumVar(0, doscoe_solver.infinity(), '_gen'+ str(ind))\n",
    "        disp_gen[resource].append(gen)\n",
    "#         if resource == 'outofbasin':\n",
    "#             # TODO: Incorporate transmission cost into variable cost for outofbasin option.\n",
    "#             variable_cost = outofbasin_emissions.loc[ind,'TOTAL/MWH']+ disp.loc[resource,'variable']\n",
    "#             objective.SetCoefficient(gen, variable_cost)\n",
    "        if 'NG' in resource:\n",
    "            variable_cost = (disp.loc[resource,'variable']+ (disp.loc[resource,'heat_rate']* gas_fuel_cost)) * discounting_factor\n",
    "        else:\n",
    "            variable_cost = disp.loc[resource,'variable'] * discounting_factor\n",
    "\n",
    "        objective.SetCoefficient(gen, variable_cost)\n",
    "            \n",
    "        \n",
    "        #Set coefficients for the hourly gen variables for the fulfill_demand constraint.\n",
    "        fulfill_demand.SetCoefficient(gen, 1)\n",
    "        \n",
    "        #Set coefficients for dispatchable capacity variables and hourly gen variables for the max_gen = capacity constraint. \n",
    "        #For legacy resources, contrains maximum hourly generation to existing capacity.\n",
    "        max_gen = doscoe_solver.Constraint(0, doscoe_solver.infinity())\n",
    "        capacity = capacity_vars[resource]\n",
    "        max_gen.SetCoefficient(capacity, 1)\n",
    "        max_gen.SetCoefficient(gen, -1)\n",
    "            \n",
    "        if 'HYDRO' in resource:\n",
    "            hydro_limit.SetCoefficient(gen, 1)\n",
    "    \n",
    "    #For each nondispatchable resource, set the coefficient of the capacity variable to its generation profile scaling factor. **Make sure units are aligned here (kw vs. mw capacities)\n",
    "    for resource in nondisp.index: \n",
    "        capacity = capacity_vars[resource]\n",
    "        profile_max = max(profiles[resource])\n",
    "        coefficient = profiles.loc[ind, resource] / profile_max\n",
    "        fulfill_demand.SetCoefficient(capacity, coefficient)\n",
    "        \n",
    "        variable_cost = nondisp.loc[resource,'variable'] * discounting_factor\n",
    "        objective.SetCoefficient(capacity, coefficient * variable_cost)\n"
   ]
  },
  {
   "cell_type": "code",
   "execution_count": 190,
   "metadata": {},
   "outputs": [
    {
     "name": "stdout",
     "output_type": "stream",
     "text": [
      "Solver found optimal solution.\n",
      "total cost = 127176983897.30467\n",
      "COAL fraction capacity =0.5155938836649524\n",
      "HYDROPOWER fraction capacity =0.16606923303375065\n",
      "NGCC fraction capacity =0.06094274851639431\n",
      "NGCT fraction capacity =0.2573941347849026\n",
      "NUCLEAR fraction capacity =0.0\n",
      "SOLAR fraction capacity =0.0\n",
      "WIND fraction capacity =0.0\n",
      "HYDROPOWER fraction generation =0.047192649157035874\n",
      "NGCC fraction generation =0.05081100425036297\n",
      "NGCT fraction generation =0.010571224969338731\n",
      "COAL fraction generation =0.8914251216232625\n",
      "NUCLEAR fraction generation =0.0\n",
      "SOLAR fraction generation =0.0\n",
      "WIND fraction generation =0.0\n"
     ]
    }
   ],
   "source": [
    "for resource in resources.index:\n",
    "    capex = resources.loc[resource, 'capex']\n",
    "    fixed = resources.loc[resource, 'fixed'] * discounting_factor\n",
    "    objective.SetCoefficient(capacity_vars[resource], capex + fixed)\n",
    "        \n",
    "# for resource in storage.index:\n",
    "#     capex = storage.loc[resource, 'capex ($/MW)']\n",
    "#     objective.SetCoefficient(capacity_vars[resource], capex)\n",
    "\n",
    "objective.SetMinimization()\n",
    "status = doscoe_solver.Solve()\n",
    "if status == doscoe_solver.OPTIMAL:\n",
    "    print(\"Solver found optimal solution.\")\n",
    "    print(\"total cost =\", objective.Value())\n",
    "\n",
    "    total_capacity = 0\n",
    "    for resource in capacity_vars:\n",
    "        total_capacity = total_capacity + capacity_vars[resource].solution_value()\n",
    "    for resource in capacity_vars:\n",
    "        fraction_capacity = capacity_vars[resource].solution_value() / total_capacity\n",
    "        print(str(capacity_vars[resource]) + ' fraction capacity =' + str(fraction_capacity))\n",
    "\n",
    "    #Sum total annual generation across all resources.\n",
    "    total_gen = 0\n",
    "    for resource in disp.index:\n",
    "        summed_gen = 0\n",
    "        for i_gen in disp_gen[str(resource)]:\n",
    "            summed_gen += i_gen.solution_value()\n",
    "        total_gen = total_gen + summed_gen\n",
    "\n",
    "    ## Sum annual generation for nondispatchable resources.\n",
    "    for resource in nondisp.index:\n",
    "        profile_max = max(profiles[resource])\n",
    "        summed_gen = sum(profiles[resource]) / profile_max\n",
    "        capacity = capacity_vars[resource].solution_value()\n",
    "        gen = summed_gen * capacity\n",
    "        total_gen = total_gen + gen\n",
    "\n",
    "    for resource in disp.index:\n",
    "        summed_gen = 0\n",
    "        for i_gen in disp_gen[str(resource)]:\n",
    "            summed_gen += i_gen.solution_value()\n",
    "        print(str(resource) + ' fraction generation =' + str(summed_gen / total_gen))  \n",
    "        \n",
    "    for resource in nondisp.index:\n",
    "        profile_max = max(profiles[resource])\n",
    "        summed_gen = sum(profiles[resource]) / profile_max\n",
    "        capacity = capacity_vars[resource].solution_value()\n",
    "        gen = summed_gen * capacity\n",
    "        print(str(resource) + ' fraction generation =' + str(gen / total_gen)) \n",
    "\n",
    "    \n",
    "else:\n",
    "    print(\"Solver exited with error code {}\".format(status))"
   ]
  },
  {
   "cell_type": "code",
   "execution_count": null,
   "metadata": {},
   "outputs": [],
   "source": []
  },
  {
   "cell_type": "code",
   "execution_count": null,
   "metadata": {},
   "outputs": [],
   "source": []
  }
 ],
 "metadata": {
  "kernelspec": {
   "display_name": "Python 3",
   "language": "python",
   "name": "python3"
  },
  "language_info": {
   "codemirror_mode": {
    "name": "ipython",
    "version": 3
   },
   "file_extension": ".py",
   "mimetype": "text/x-python",
   "name": "python",
   "nbconvert_exporter": "python",
   "pygments_lexer": "ipython3",
   "version": "3.8.3"
  }
 },
 "nbformat": 4,
 "nbformat_minor": 4
}
