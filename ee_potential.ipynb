{
 "cells": [
  {
   "cell_type": "code",
   "execution_count": 1,
   "metadata": {},
   "outputs": [],
   "source": [
    "import pandas as pd\n",
    "import numpy as np\n",
    "import matplotlib.pyplot as plt\n",
    "\n",
    "%reload_ext autoreload\n",
    "%autoreload 2"
   ]
  },
  {
   "cell_type": "code",
   "execution_count": 2,
   "metadata": {},
   "outputs": [],
   "source": [
    "res_annual_energy = pd.read_csv('data/CEC EE load shapes/Res-ladwp-2021/CEC_res_annual_energy_LADWP_2021.csv')\n",
    "res_annual_energy_enduse = res_annual_energy[res_annual_energy['End.Use']!='Residual']"
   ]
  },
  {
   "cell_type": "code",
   "execution_count": 52,
   "metadata": {},
   "outputs": [],
   "source": [
    "load_split_fcz = res_annual_energy_enduse.groupby(['FCZ','BType_Des']).sum()"
   ]
  },
  {
   "cell_type": "code",
   "execution_count": 60,
   "metadata": {},
   "outputs": [],
   "source": [
    "fcz16 = load_split_fcz.loc['FCZ16']"
   ]
  },
  {
   "cell_type": "code",
   "execution_count": 72,
   "metadata": {},
   "outputs": [],
   "source": [
    "load_share_fcz16_sf = fcz16.loc['SINGLEFAMILY'].item() / load_split_fcz.sum().item()"
   ]
  },
  {
   "cell_type": "code",
   "execution_count": 70,
   "metadata": {},
   "outputs": [],
   "source": [
    "load_share_fcz16_mf = fcz16.loc['MULTIFAMILY'].item() / load_split_fcz.sum().item()"
   ]
  },
  {
   "cell_type": "code",
   "execution_count": 73,
   "metadata": {},
   "outputs": [
    {
     "data": {
      "text/plain": [
       "0.18829099016310993"
      ]
     },
     "execution_count": 73,
     "metadata": {},
     "output_type": "execute_result"
    }
   ],
   "source": [
    "load_share_fcz16_sf"
   ]
  },
  {
   "cell_type": "code",
   "execution_count": 74,
   "metadata": {},
   "outputs": [
    {
     "data": {
      "text/plain": [
       "0.11270124049553622"
      ]
     },
     "execution_count": 74,
     "metadata": {},
     "output_type": "execute_result"
    }
   ],
   "source": [
    "load_share_fcz16_mf"
   ]
  },
  {
   "cell_type": "code",
   "execution_count": 75,
   "metadata": {},
   "outputs": [],
   "source": [
    "annual_ee_savings = pd.read_csv('data/CEC EE load shapes/CEC_LADWP_AAEE_annualSavings_endUse.csv')\n",
    "annual_ee_savings_ladwp = annual_ee_savings[annual_ee_savings['Planning Area']=='LADWP']"
   ]
  },
  {
   "cell_type": "code",
   "execution_count": 76,
   "metadata": {},
   "outputs": [],
   "source": [
    "annual_ee_savings_ladwp = annual_ee_savings_ladwp[annual_ee_savings_ladwp['Units']=='GWh']"
   ]
  },
  {
   "cell_type": "code",
   "execution_count": 77,
   "metadata": {},
   "outputs": [],
   "source": [
    "annual_ee_savings_midMid = annual_ee_savings_ladwp[annual_ee_savings_ladwp['Scenario Number']==3]"
   ]
  },
  {
   "cell_type": "code",
   "execution_count": 78,
   "metadata": {},
   "outputs": [],
   "source": [
    "annual_ee_savings_midMid_bySector = annual_ee_savings_midMid.groupby(['Sector','End Use']).sum()"
   ]
  },
  {
   "cell_type": "code",
   "execution_count": 79,
   "metadata": {},
   "outputs": [
    {
     "data": {
      "text/html": [
       "<div>\n",
       "<style scoped>\n",
       "    .dataframe tbody tr th:only-of-type {\n",
       "        vertical-align: middle;\n",
       "    }\n",
       "\n",
       "    .dataframe tbody tr th {\n",
       "        vertical-align: top;\n",
       "    }\n",
       "\n",
       "    .dataframe thead th {\n",
       "        text-align: right;\n",
       "    }\n",
       "</style>\n",
       "<table border=\"1\" class=\"dataframe\">\n",
       "  <thead>\n",
       "    <tr style=\"text-align: right;\">\n",
       "      <th></th>\n",
       "      <th>Scenario Number</th>\n",
       "      <th>2019</th>\n",
       "      <th>2020</th>\n",
       "      <th>2021</th>\n",
       "      <th>2022</th>\n",
       "      <th>2023</th>\n",
       "      <th>2024</th>\n",
       "      <th>2025</th>\n",
       "      <th>2026</th>\n",
       "      <th>2027</th>\n",
       "      <th>2028</th>\n",
       "      <th>2029</th>\n",
       "      <th>2030</th>\n",
       "    </tr>\n",
       "    <tr>\n",
       "      <th>End Use</th>\n",
       "      <th></th>\n",
       "      <th></th>\n",
       "      <th></th>\n",
       "      <th></th>\n",
       "      <th></th>\n",
       "      <th></th>\n",
       "      <th></th>\n",
       "      <th></th>\n",
       "      <th></th>\n",
       "      <th></th>\n",
       "      <th></th>\n",
       "      <th></th>\n",
       "      <th></th>\n",
       "    </tr>\n",
       "  </thead>\n",
       "  <tbody>\n",
       "    <tr>\n",
       "      <th>Behavior</th>\n",
       "      <td>3</td>\n",
       "      <td>0</td>\n",
       "      <td>23.800789</td>\n",
       "      <td>74.893336</td>\n",
       "      <td>76.402947</td>\n",
       "      <td>77.935058</td>\n",
       "      <td>79.501693</td>\n",
       "      <td>81.139050</td>\n",
       "      <td>82.810129</td>\n",
       "      <td>84.515624</td>\n",
       "      <td>86.256245</td>\n",
       "      <td>88.032714</td>\n",
       "      <td>89.773696</td>\n",
       "    </tr>\n",
       "    <tr>\n",
       "      <th>HVAC - Cooling</th>\n",
       "      <td>3</td>\n",
       "      <td>0</td>\n",
       "      <td>5.200210</td>\n",
       "      <td>13.215910</td>\n",
       "      <td>25.512038</td>\n",
       "      <td>44.265977</td>\n",
       "      <td>72.594041</td>\n",
       "      <td>108.291598</td>\n",
       "      <td>151.727974</td>\n",
       "      <td>199.061302</td>\n",
       "      <td>242.993282</td>\n",
       "      <td>278.539669</td>\n",
       "      <td>319.979528</td>\n",
       "    </tr>\n",
       "    <tr>\n",
       "      <th>HVAC - General</th>\n",
       "      <td>3</td>\n",
       "      <td>0</td>\n",
       "      <td>2.185179</td>\n",
       "      <td>4.508558</td>\n",
       "      <td>6.752640</td>\n",
       "      <td>10.552760</td>\n",
       "      <td>14.261195</td>\n",
       "      <td>17.729134</td>\n",
       "      <td>21.225644</td>\n",
       "      <td>24.505464</td>\n",
       "      <td>27.703057</td>\n",
       "      <td>30.763487</td>\n",
       "      <td>33.665600</td>\n",
       "    </tr>\n",
       "    <tr>\n",
       "      <th>HVAC - Heating</th>\n",
       "      <td>3</td>\n",
       "      <td>0</td>\n",
       "      <td>-0.493236</td>\n",
       "      <td>-1.506128</td>\n",
       "      <td>-3.016486</td>\n",
       "      <td>-4.972535</td>\n",
       "      <td>-7.313523</td>\n",
       "      <td>-10.010235</td>\n",
       "      <td>-13.189268</td>\n",
       "      <td>-16.861344</td>\n",
       "      <td>-21.036205</td>\n",
       "      <td>-25.723744</td>\n",
       "      <td>-30.880037</td>\n",
       "    </tr>\n",
       "    <tr>\n",
       "      <th>Lighting - General</th>\n",
       "      <td>3</td>\n",
       "      <td>0</td>\n",
       "      <td>90.327646</td>\n",
       "      <td>133.300013</td>\n",
       "      <td>157.637192</td>\n",
       "      <td>180.404657</td>\n",
       "      <td>207.409963</td>\n",
       "      <td>240.514275</td>\n",
       "      <td>278.459956</td>\n",
       "      <td>314.287982</td>\n",
       "      <td>341.479902</td>\n",
       "      <td>360.912149</td>\n",
       "      <td>388.497870</td>\n",
       "    </tr>\n",
       "    <tr>\n",
       "      <th>Miscellaneous</th>\n",
       "      <td>3</td>\n",
       "      <td>0</td>\n",
       "      <td>12.098138</td>\n",
       "      <td>25.397213</td>\n",
       "      <td>40.016843</td>\n",
       "      <td>53.757170</td>\n",
       "      <td>70.258038</td>\n",
       "      <td>88.236357</td>\n",
       "      <td>101.292895</td>\n",
       "      <td>102.634175</td>\n",
       "      <td>95.706891</td>\n",
       "      <td>83.424082</td>\n",
       "      <td>77.921801</td>\n",
       "    </tr>\n",
       "    <tr>\n",
       "      <th>Plug Load - Appliances</th>\n",
       "      <td>3</td>\n",
       "      <td>0</td>\n",
       "      <td>0.000000</td>\n",
       "      <td>3.574274</td>\n",
       "      <td>11.097659</td>\n",
       "      <td>18.193265</td>\n",
       "      <td>25.173799</td>\n",
       "      <td>31.795236</td>\n",
       "      <td>37.246525</td>\n",
       "      <td>38.980693</td>\n",
       "      <td>40.253330</td>\n",
       "      <td>40.887751</td>\n",
       "      <td>41.417811</td>\n",
       "    </tr>\n",
       "    <tr>\n",
       "      <th>Plug Load - Consumer Electronics</th>\n",
       "      <td>3</td>\n",
       "      <td>0</td>\n",
       "      <td>0.419166</td>\n",
       "      <td>0.754808</td>\n",
       "      <td>1.061201</td>\n",
       "      <td>1.359803</td>\n",
       "      <td>1.657336</td>\n",
       "      <td>1.941106</td>\n",
       "      <td>1.797372</td>\n",
       "      <td>1.791290</td>\n",
       "      <td>1.856247</td>\n",
       "      <td>1.900133</td>\n",
       "      <td>1.919035</td>\n",
       "    </tr>\n",
       "    <tr>\n",
       "      <th>Refrig/Freezer</th>\n",
       "      <td>3</td>\n",
       "      <td>0</td>\n",
       "      <td>69.962649</td>\n",
       "      <td>123.737199</td>\n",
       "      <td>173.647629</td>\n",
       "      <td>195.942459</td>\n",
       "      <td>201.497790</td>\n",
       "      <td>201.172832</td>\n",
       "      <td>215.209212</td>\n",
       "      <td>231.089857</td>\n",
       "      <td>248.346628</td>\n",
       "      <td>266.335120</td>\n",
       "      <td>283.269688</td>\n",
       "    </tr>\n",
       "    <tr>\n",
       "      <th>Water Heating</th>\n",
       "      <td>3</td>\n",
       "      <td>0</td>\n",
       "      <td>11.346150</td>\n",
       "      <td>21.296080</td>\n",
       "      <td>30.055442</td>\n",
       "      <td>37.878460</td>\n",
       "      <td>44.895353</td>\n",
       "      <td>51.135243</td>\n",
       "      <td>52.460049</td>\n",
       "      <td>52.413389</td>\n",
       "      <td>47.040244</td>\n",
       "      <td>40.030302</td>\n",
       "      <td>35.525134</td>\n",
       "    </tr>\n",
       "    <tr>\n",
       "      <th>WholeBlg</th>\n",
       "      <td>3</td>\n",
       "      <td>0</td>\n",
       "      <td>33.398728</td>\n",
       "      <td>67.464269</td>\n",
       "      <td>107.186004</td>\n",
       "      <td>166.049065</td>\n",
       "      <td>227.244114</td>\n",
       "      <td>290.808242</td>\n",
       "      <td>356.992786</td>\n",
       "      <td>426.449056</td>\n",
       "      <td>497.889889</td>\n",
       "      <td>572.776757</td>\n",
       "      <td>643.258240</td>\n",
       "    </tr>\n",
       "  </tbody>\n",
       "</table>\n",
       "</div>"
      ],
      "text/plain": [
       "                                  Scenario Number  2019       2020  \\\n",
       "End Use                                                              \n",
       "Behavior                                        3     0  23.800789   \n",
       "HVAC - Cooling                                  3     0   5.200210   \n",
       "HVAC - General                                  3     0   2.185179   \n",
       "HVAC - Heating                                  3     0  -0.493236   \n",
       "Lighting - General                              3     0  90.327646   \n",
       "Miscellaneous                                   3     0  12.098138   \n",
       "Plug Load - Appliances                          3     0   0.000000   \n",
       "Plug Load - Consumer Electronics                3     0   0.419166   \n",
       "Refrig/Freezer                                  3     0  69.962649   \n",
       "Water Heating                                   3     0  11.346150   \n",
       "WholeBlg                                        3     0  33.398728   \n",
       "\n",
       "                                        2021        2022        2023  \\\n",
       "End Use                                                                \n",
       "Behavior                           74.893336   76.402947   77.935058   \n",
       "HVAC - Cooling                     13.215910   25.512038   44.265977   \n",
       "HVAC - General                      4.508558    6.752640   10.552760   \n",
       "HVAC - Heating                     -1.506128   -3.016486   -4.972535   \n",
       "Lighting - General                133.300013  157.637192  180.404657   \n",
       "Miscellaneous                      25.397213   40.016843   53.757170   \n",
       "Plug Load - Appliances              3.574274   11.097659   18.193265   \n",
       "Plug Load - Consumer Electronics    0.754808    1.061201    1.359803   \n",
       "Refrig/Freezer                    123.737199  173.647629  195.942459   \n",
       "Water Heating                      21.296080   30.055442   37.878460   \n",
       "WholeBlg                           67.464269  107.186004  166.049065   \n",
       "\n",
       "                                        2024        2025        2026  \\\n",
       "End Use                                                                \n",
       "Behavior                           79.501693   81.139050   82.810129   \n",
       "HVAC - Cooling                     72.594041  108.291598  151.727974   \n",
       "HVAC - General                     14.261195   17.729134   21.225644   \n",
       "HVAC - Heating                     -7.313523  -10.010235  -13.189268   \n",
       "Lighting - General                207.409963  240.514275  278.459956   \n",
       "Miscellaneous                      70.258038   88.236357  101.292895   \n",
       "Plug Load - Appliances             25.173799   31.795236   37.246525   \n",
       "Plug Load - Consumer Electronics    1.657336    1.941106    1.797372   \n",
       "Refrig/Freezer                    201.497790  201.172832  215.209212   \n",
       "Water Heating                      44.895353   51.135243   52.460049   \n",
       "WholeBlg                          227.244114  290.808242  356.992786   \n",
       "\n",
       "                                        2027        2028        2029  \\\n",
       "End Use                                                                \n",
       "Behavior                           84.515624   86.256245   88.032714   \n",
       "HVAC - Cooling                    199.061302  242.993282  278.539669   \n",
       "HVAC - General                     24.505464   27.703057   30.763487   \n",
       "HVAC - Heating                    -16.861344  -21.036205  -25.723744   \n",
       "Lighting - General                314.287982  341.479902  360.912149   \n",
       "Miscellaneous                     102.634175   95.706891   83.424082   \n",
       "Plug Load - Appliances             38.980693   40.253330   40.887751   \n",
       "Plug Load - Consumer Electronics    1.791290    1.856247    1.900133   \n",
       "Refrig/Freezer                    231.089857  248.346628  266.335120   \n",
       "Water Heating                      52.413389   47.040244   40.030302   \n",
       "WholeBlg                          426.449056  497.889889  572.776757   \n",
       "\n",
       "                                        2030  \n",
       "End Use                                       \n",
       "Behavior                           89.773696  \n",
       "HVAC - Cooling                    319.979528  \n",
       "HVAC - General                     33.665600  \n",
       "HVAC - Heating                    -30.880037  \n",
       "Lighting - General                388.497870  \n",
       "Miscellaneous                      77.921801  \n",
       "Plug Load - Appliances             41.417811  \n",
       "Plug Load - Consumer Electronics    1.919035  \n",
       "Refrig/Freezer                    283.269688  \n",
       "Water Heating                      35.525134  \n",
       "WholeBlg                          643.258240  "
      ]
     },
     "execution_count": 79,
     "metadata": {},
     "output_type": "execute_result"
    }
   ],
   "source": [
    "annual_ee_savings_midMid_bySector.loc['Residential']"
   ]
  },
  {
   "cell_type": "code",
   "execution_count": 80,
   "metadata": {},
   "outputs": [],
   "source": [
    "annual_ee_savings_midMid_fcz16_sf = annual_ee_savings_midMid_bySector.loc['Residential']*load_share_fcz16_sf"
   ]
  },
  {
   "cell_type": "code",
   "execution_count": 82,
   "metadata": {},
   "outputs": [],
   "source": [
    "annual_ee_savings_midMid_fcz16_mf = annual_ee_savings_midMid_bySector.loc['Residential']*load_share_fcz16_mf"
   ]
  },
  {
   "cell_type": "code",
   "execution_count": 83,
   "metadata": {},
   "outputs": [],
   "source": [
    "ee_loadshapes = pd.read_csv('data/CEC EE load shapes/Res-ladwp-2021/CEC_res_loadshapes_EE_fz7_2021.csv')"
   ]
  },
  {
   "cell_type": "code",
   "execution_count": 85,
   "metadata": {},
   "outputs": [
    {
     "data": {
      "text/plain": [
       "Index(['Unnamed: 0', 'DatesAll', 'FCZ7.Residential.MULTIFAMILY.CoolingEff',\n",
       "       'FCZ7.Residential.MULTIFAMILY.Dryer',\n",
       "       'FCZ7.Residential.MULTIFAMILY.Heating',\n",
       "       'FCZ7.Residential.MULTIFAMILY.HeatPumpEff',\n",
       "       'FCZ7.Residential.MULTIFAMILY.Miscellaneous',\n",
       "       'FCZ7.Residential.MULTIFAMILY.Refrigerator',\n",
       "       'FCZ7.Residential.MULTIFAMILY.ResLightingEff',\n",
       "       'FCZ7.Residential.MULTIFAMILY.ResOccsensorEff',\n",
       "       'FCZ7.Residential.MULTIFAMILY.Washer',\n",
       "       'FCZ7.Residential.MULTIFAMILY.WaterHeating',\n",
       "       'FCZ7.Residential.SINGLEFAMILY.CoolingEff',\n",
       "       'FCZ7.Residential.SINGLEFAMILY.Dryer',\n",
       "       'FCZ7.Residential.SINGLEFAMILY.Heating',\n",
       "       'FCZ7.Residential.SINGLEFAMILY.HeatPumpEff',\n",
       "       'FCZ7.Residential.SINGLEFAMILY.Miscellaneous',\n",
       "       'FCZ7.Residential.SINGLEFAMILY.Refrigerator',\n",
       "       'FCZ7.Residential.SINGLEFAMILY.ResLightingEff',\n",
       "       'FCZ7.Residential.SINGLEFAMILY.ResOccsensorEff',\n",
       "       'FCZ7.Residential.SINGLEFAMILY.Washer',\n",
       "       'FCZ7.Residential.SINGLEFAMILY.WaterHeating'],\n",
       "      dtype='object')"
      ]
     },
     "execution_count": 85,
     "metadata": {},
     "output_type": "execute_result"
    }
   ],
   "source": [
    "ee_loadshapes.columns"
   ]
  },
  {
   "cell_type": "code",
   "execution_count": null,
   "metadata": {},
   "outputs": [],
   "source": []
  }
 ],
 "metadata": {
  "kernelspec": {
   "display_name": "Python 3",
   "language": "python",
   "name": "python3"
  },
  "language_info": {
   "codemirror_mode": {
    "name": "ipython",
    "version": 3
   },
   "file_extension": ".py",
   "mimetype": "text/x-python",
   "name": "python",
   "nbconvert_exporter": "python",
   "pygments_lexer": "ipython3",
   "version": "3.8.3"
  }
 },
 "nbformat": 4,
 "nbformat_minor": 4
}
