{
 "cells": [
  {
   "cell_type": "code",
   "execution_count": 36,
   "metadata": {},
   "outputs": [],
   "source": [
    "import pandas as pd\n",
    "import numpy as np\n",
    "import glob\n",
    "import re\n",
    "import matplotlib.pyplot as plt\n",
    "import matplotlib.colors as mcolors\n",
    "from datetime import datetime, timedelta\n",
    "\n",
    "%reload_ext autoreload\n",
    "%autoreload 2"
   ]
  },
  {
   "cell_type": "markdown",
   "metadata": {},
   "source": [
    "#### Downscale LADWP hourly generation to Harbor region using Harbor peak fraction of system peak.\n",
    "#### To be used for max excess energy."
   ]
  },
  {
   "cell_type": "code",
   "execution_count": 37,
   "metadata": {},
   "outputs": [],
   "source": [
    "harbor_fraction_system_peak = 0.073"
   ]
  },
  {
   "cell_type": "code",
   "execution_count": 38,
   "metadata": {},
   "outputs": [],
   "source": [
    "#Loop through folder of files with EIA LADWP hourly net generation data by energy source, concatenate into one file.\n",
    "path = 'data/grid_emissions/LADWP_hourly_gen_by_source'\n",
    "filenames = glob.glob(path + \"/*.csv\")\n",
    "\n",
    "dfs = []\n",
    "for filename in filenames:\n",
    "    dfs.append(pd.read_csv(filename))\n",
    "\n",
    "# concatenate into one dataframe\n",
    "hourly_gen_by_source = pd.concat(dfs, ignore_index=True)\n",
    "hourly_gen_by_source.columns = hourly_gen_by_source.columns.str.replace('\\s+', '_') "
   ]
  },
  {
   "cell_type": "code",
   "execution_count": 39,
   "metadata": {},
   "outputs": [],
   "source": [
    "#Split date and hour (ending).\n",
    "hourly_gen_by_source = hourly_gen_by_source.join(hourly_gen_by_source['Timestamp_(Hour_Ending)'].str.split(r' ',1,expand=True).rename(columns={0:'date', 1:'hour_ending'}))\n",
    "\n",
    "#Drop duplicate datetimes.\n",
    "hourly_gen_by_source.drop_duplicates(ignore_index=True, inplace=True)\n",
    "\n",
    "#Split hour (ending) and am/pm.\n",
    "hourly_gen_by_source = hourly_gen_by_source.join(hourly_gen_by_source['hour_ending'].str.split(r' ',1,expand=True).rename(columns={0:'hour_ends', 1:'am/pm'}))\n",
    "\n",
    "hourly_gen_by_source['am/pm'] = hourly_gen_by_source['am/pm'].str[:-4]\n",
    "hourly_gen_by_source['date'] = pd.to_datetime(hourly_gen_by_source['date'])\n",
    "hourly_gen_by_source['hour_ends'] = pd.to_numeric(hourly_gen_by_source['hour_ends'])"
   ]
  },
  {
   "cell_type": "code",
   "execution_count": 40,
   "metadata": {},
   "outputs": [],
   "source": [
    "for index, row in hourly_gen_by_source[hourly_gen_by_source['Total_Generation_(MWh)'].isna()].iterrows():\n",
    "    date = hourly_gen_by_source.loc[index,'date']\n",
    "    date_previous = date-timedelta(days=1)\n",
    "    time = hourly_gen_by_source.loc[index,'hour_ends']\n",
    "    am_pm = hourly_gen_by_source.loc[index,'am/pm']\n",
    "    \n",
    "    previous_day_inds = hourly_gen_by_source['date'] == date_previous\n",
    "    time_inds = hourly_gen_by_source['hour_ends'] == time\n",
    "    am_pm_inds = hourly_gen_by_source['am/pm'] == am_pm\n",
    "    previous_gen = hourly_gen_by_source[previous_day_inds & time_inds & am_pm_inds]['Total_Generation_(MWh)'].item()\n",
    "    previous_coal = hourly_gen_by_source[previous_day_inds & time_inds & am_pm_inds]['Coal_Generation_(MWh)'].item()\n",
    "    if previous_gen == 0:\n",
    "        print(index)\n",
    "    if previous_coal == 0:\n",
    "        print(index)\n",
    "    \n",
    "    hourly_gen_by_source.loc[index,'Total_Generation_(MWh)'] = previous_gen\n",
    "    hourly_gen_by_source.loc[index,'Coal_Generation_(MWh)'] = previous_coal\n",
    "    \n",
    "for index, row in hourly_gen_by_source[hourly_gen_by_source['Coal_Generation_(MWh)']<0].iterrows():\n",
    "    hourly_gen_by_source.loc[index,'Coal_Generation_(MWh)']=0"
   ]
  },
  {
   "cell_type": "code",
   "execution_count": 41,
   "metadata": {},
   "outputs": [],
   "source": [
    "pm_inds = hourly_gen_by_source['am/pm']=='p.m.'\n",
    "am_inds = hourly_gen_by_source['am/pm']=='a.m.'\n",
    "\n",
    "hourly_gen_by_source_pm = hourly_gen_by_source[pm_inds].reset_index()\n",
    "for row in hourly_gen_by_source_pm.index:\n",
    "    if hourly_gen_by_source_pm.loc[row,'hour_ends']<12:\n",
    "        hourly_gen_by_source_pm.loc[row,'hour_ends']=hourly_gen_by_source_pm.loc[row,'hour_ends']+12\n",
    "\n",
    "hourly_gen_by_source_am = hourly_gen_by_source[am_inds].reset_index()\n",
    "for row in hourly_gen_by_source_am.index:\n",
    "    if hourly_gen_by_source_am.loc[row,'hour_ends']== 12:\n",
    "        hourly_gen_by_source_am.loc[row,'date']= hourly_gen_by_source_am.loc[row,'date']-timedelta(days=1)\n",
    "        hourly_gen_by_source_am.loc[row,'hour_ends'] = 24\n",
    "        \n",
    "hourly_gen_reformatted = pd.concat([hourly_gen_by_source_am, hourly_gen_by_source_pm], ignore_index=True)\n",
    "\n",
    "hourly_gen_reformatted['hour'] = (hourly_gen_reformatted['hour_ends'])-1\n",
    "hourly_gen_reformatted.drop(columns=['index','hour_ending','hour_ends','am/pm','Timestamp_(Hour_Ending)'], inplace=True)\n",
    "hourly_gen_reformatted = hourly_gen_reformatted.sort_values(by=['date','hour'])\n",
    "hourly_gen_by_source_reformatted = hourly_gen_reformatted[hourly_gen_reformatted.date >= '2019-01-01']"
   ]
  },
  {
   "cell_type": "code",
   "execution_count": 42,
   "metadata": {},
   "outputs": [
    {
     "data": {
      "text/plain": [
       "Index(['BA_Code', 'Total_Generation_(MWh)', 'Wind_Generation_(MWh)',\n",
       "       'Solar_Generation_(MWh)', 'Hydro_Generation_(MWh)',\n",
       "       'Other_Generation_(MWh)', 'Natural_gas_Generation_(MWh)',\n",
       "       'Coal_Generation_(MWh)', 'date', 'hour'],\n",
       "      dtype='object')"
      ]
     },
     "execution_count": 42,
     "metadata": {},
     "output_type": "execute_result"
    }
   ],
   "source": [
    "hourly_gen_by_source_reformatted.columns"
   ]
  },
  {
   "cell_type": "code",
   "execution_count": 43,
   "metadata": {},
   "outputs": [],
   "source": [
    "hourly_gen_by_source_reformatted = hourly_gen_by_source_reformatted[['Total_Generation_(MWh)', 'date', 'hour']]"
   ]
  },
  {
   "cell_type": "code",
   "execution_count": 45,
   "metadata": {},
   "outputs": [],
   "source": [
    "hourly_gen_by_source_reformatted = hourly_gen_by_source_reformatted.reset_index(drop=True)"
   ]
  },
  {
   "cell_type": "code",
   "execution_count": 48,
   "metadata": {},
   "outputs": [],
   "source": [
    "hourly_gen_by_source_reformatted['Total_Generation_(MWh)']=hourly_gen_by_source_reformatted['Total_Generation_(MWh)']*harbor_fraction_system_peak"
   ]
  },
  {
   "cell_type": "code",
   "execution_count": 51,
   "metadata": {},
   "outputs": [],
   "source": [
    "hourly_gen_by_source_reformatted.to_csv('data/ladwp_hourly_gen_downscaled.csv')"
   ]
  },
  {
   "cell_type": "code",
   "execution_count": null,
   "metadata": {},
   "outputs": [],
   "source": []
  }
 ],
 "metadata": {
  "kernelspec": {
   "display_name": "Python 3",
   "language": "python",
   "name": "python3"
  },
  "language_info": {
   "codemirror_mode": {
    "name": "ipython",
    "version": 3
   },
   "file_extension": ".py",
   "mimetype": "text/x-python",
   "name": "python",
   "nbconvert_exporter": "python",
   "pygments_lexer": "ipython3",
   "version": "3.8.3"
  }
 },
 "nbformat": 4,
 "nbformat_minor": 4
}
