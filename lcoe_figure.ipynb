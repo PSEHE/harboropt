{
 "cells": [
  {
   "cell_type": "code",
   "execution_count": null,
   "metadata": {},
   "outputs": [],
   "source": [
    "import pandas as pd\n",
    "import harboropt_lp_valueNewMethod\n",
    "from ortools.linear_solver import pywraplp\n",
    "import os\n",
    "import numpy as np\n",
    "import matplotlib.pyplot as plt\n",
    "import matplotlib.colors as mcolors\n",
    "from tqdm import tnrange\n",
    "import seaborn as sns\n",
    "%reload_ext autoreload\n",
    "%autoreload 2"
   ]
  },
  {
   "cell_type": "markdown",
   "metadata": {},
   "source": [
    "#### Concatenate LCOE files for 2020-2035."
   ]
  },
  {
   "cell_type": "code",
   "execution_count": null,
   "metadata": {},
   "outputs": [],
   "source": [
    "lcoe_2020_2024 = pd.read_csv('model_run_results/lcoe_per_mwh_2024.csv')\n",
    "lcoe_2025_2030 = pd.read_csv('model_run_results/lcoe_per_mwh_2030.csv')\n",
    "lcoe_2031_2035 = pd.read_csv('model_run_results/lcoe_per_mwh_2035.csv')\n",
    "\n",
    "lcoe_2020_2030 = lcoe_2020_2024.merge(lcoe_2025_2030, how='outer', on=['resource','lcoe_type'])\n",
    "lcoe_2020_2035 = lcoe_2020_2030.merge(lcoe_2031_2035, how='outer', on=['resource','lcoe_type'])\n",
    "\n",
    "lcoe_2020_2035 = lcoe_2020_2035[['resource', 'lcoe_type', '2020','2021', '2022', '2023',\n",
    "       '2024', '2025', '2026', '2027', '2028', '2029', '2030',\n",
    "        '2031', '2032', '2033', '2034', '2035']]\n",
    "\n",
    "disp_resources = ['gas_harbor','gas_ct','ci_shed_nonwatersystem']\n",
    "lcoe_2020_2035 = lcoe_2020_2035[lcoe_2020_2035['resource'].isin(disp_resources)==False]\n",
    "\n",
    "lcoe_gas_harbor = pd.read_csv('model_run_results/lcoe_per_mwh_gasHarbor_2035.csv')\n",
    "lcoe_gas_ct = pd.read_csv('model_run_results/lcoe_per_mwh_gasCT_2035.csv')\n",
    "lcoe = pd.concat([lcoe_2020_2035,lcoe_gas_harbor], ignore_index=True)\n",
    "lcoe = pd.concat([lcoe,lcoe_gas_ct], ignore_index=True)\n",
    "lcoe['units']='2018$/mwh'"
   ]
  },
  {
   "cell_type": "code",
   "execution_count": null,
   "metadata": {},
   "outputs": [],
   "source": [
    "lcoe.to_csv('model_run_results/lcoe_2020_2035.csv')"
   ]
  }
 ],
 "metadata": {
  "kernelspec": {
   "display_name": "Python 3",
   "language": "python",
   "name": "python3"
  },
  "language_info": {
   "codemirror_mode": {
    "name": "ipython",
    "version": 3
   },
   "file_extension": ".py",
   "mimetype": "text/x-python",
   "name": "python",
   "nbconvert_exporter": "python",
   "pygments_lexer": "ipython3",
   "version": "3.8.3"
  }
 },
 "nbformat": 4,
 "nbformat_minor": 4
}
