{
 "cells": [
  {
   "cell_type": "code",
   "execution_count": 7,
   "metadata": {},
   "outputs": [],
   "source": [
    "import doscoe_lp\n",
    "import numpy as np\n",
    "import matplotlib.pyplot as plt\n",
    "from tqdm import tnrange\n",
    "import seaborn as sns\n",
    "%reload_ext autoreload\n",
    "%autoreload 2"
   ]
  },
  {
   "cell_type": "code",
   "execution_count": 8,
   "metadata": {},
   "outputs": [
    {
     "name": "stderr",
     "output_type": "stream",
     "text": [
      "/Users/AnnieDillon/anaconda3/lib/python3.7/site-packages/ipykernel_launcher.py:3: TqdmDeprecationWarning: Please use `tqdm.notebook.trange` instead of `tqdm.tnrange`\n",
      "  This is separate from the ipykernel package so we can avoid doing imports until\n"
     ]
    },
    {
     "data": {
      "application/vnd.jupyter.widget-view+json": {
       "model_id": "5e750fb391d142feb5172142358a1197",
       "version_major": 2,
       "version_minor": 0
      },
      "text/plain": [
       "HBox(children=(FloatProgress(value=0.0, max=13.0), HTML(value='')))"
      ]
     },
     "metadata": {},
     "output_type": "display_data"
    },
    {
     "name": "stdout",
     "output_type": "stream",
     "text": [
      "2\n",
      "Solver found optimal solution.\n",
      "3\n",
      "Solver found optimal solution.\n",
      "4\n",
      "Solver found optimal solution.\n",
      "5\n",
      "Solver found optimal solution.\n",
      "6\n",
      "Solver found optimal solution.\n",
      "7\n",
      "Solver found optimal solution.\n",
      "8\n",
      "Solver found optimal solution.\n",
      "9\n",
      "Solver found optimal solution.\n",
      "10\n",
      "Solver found optimal solution.\n",
      "11\n",
      "Solver found optimal solution.\n",
      "12\n",
      "Solver found optimal solution.\n",
      "13\n",
      "Solver found optimal solution.\n",
      "14\n",
      "Solver found optimal solution.\n",
      "\n"
     ]
    }
   ],
   "source": [
    "runs = {}\n",
    "\n",
    "for fuel_cost in tnrange(2, 15, 1):\n",
    "    print(fuel_cost)\n",
    "    lp = doscoe_lp.DOSCOE(gas_fuel_cost=fuel_cost)\n",
    "    lp.solve()\n",
    "    runs[fuel_cost] = lp "
   ]
  },
  {
   "cell_type": "code",
   "execution_count": 9,
   "metadata": {},
   "outputs": [],
   "source": [
    "resources = runs[fuel_cost].resources.index\n",
    "\n",
    "resource_capacity_lists = {}\n",
    "for resource in resources:\n",
    "    resource_capacity_lists[resource] = []\n",
    "    \n",
    "resource_gen_lists = {}\n",
    "for resource in resources:\n",
    "    resource_gen_lists[resource] = []   "
   ]
  },
  {
   "cell_type": "code",
   "execution_count": 10,
   "metadata": {},
   "outputs": [],
   "source": [
    "fuel_costs = []\n",
    "for key in runs:\n",
    "    fuel_costs.append(key)\n",
    "    capacity_breakdown = runs[key].capacity_results()\n",
    "    for resource in resources:\n",
    "        capacity = capacity_breakdown[resource]\n",
    "        resource_capacity_lists[resource].append(capacity)\n",
    "    gen_breakdown = runs[key].gen_results()\n",
    "    for resource in resources:\n",
    "        gen = gen_breakdown[resource]\n",
    "        resource_gen_lists[resource].append(gen) "
   ]
  },
  {
   "cell_type": "code",
   "execution_count": 11,
   "metadata": {},
   "outputs": [
    {
     "data": {
      "image/png": "[encoded data removed]",
      "text/plain": [
       "<Figure size 432x288 with 1 Axes>"
      ]
     },
     "metadata": {},
     "output_type": "display_data"
    }
   ],
   "source": [
    "lines = []\n",
    "fig, ax = plt.subplots()\n",
    "for resource in resources:\n",
    "    capacity_line = resource_capacity_lists[resource]\n",
    "    plt.plot(fuel_costs, capacity_line, label = str(resource)) \n",
    "\n",
    "sns.set()\n",
    "ax.legend(loc = 'center left', bbox_to_anchor=(1,0.77))\n",
    "ax.spines['right'].set_visible(False)\n",
    "ax.spines['top'].set_visible(False)\n",
    "ax.yaxis.set_ticks_position('left')\n",
    "ax.xaxis.set_ticks_position('bottom')\n"
   ]
  },
  {
   "cell_type": "code",
   "execution_count": null,
   "metadata": {},
   "outputs": [],
   "source": []
  }
 ],
 "metadata": {
  "kernelspec": {
   "display_name": "Python 3",
   "language": "python",
   "name": "python3"
  },
  "language_info": {
   "codemirror_mode": {
    "name": "ipython",
    "version": 3
   },
   "file_extension": ".py",
   "mimetype": "text/x-python",
   "name": "python",
   "nbconvert_exporter": "python",
   "pygments_lexer": "ipython3",
   "version": "3.7.3"
  }
 },
 "nbformat": 4,
 "nbformat_minor": 4
}
