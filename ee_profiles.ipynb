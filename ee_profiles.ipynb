{
 "cells": [
  {
   "cell_type": "code",
   "execution_count": 46,
   "metadata": {},
   "outputs": [],
   "source": [
    "import pandas as pd\n",
    "import numpy as np\n",
    "import matplotlib.pyplot as plt\n",
    "\n",
    "%reload_ext autoreload\n",
    "%autoreload 2"
   ]
  },
  {
   "cell_type": "code",
   "execution_count": 47,
   "metadata": {},
   "outputs": [],
   "source": [
    "com_ee_shapes = pd.read_csv('data/CEC EE load shapes/Com-ladwp-2021/Com aaee ls-fz7-2021.csv')\n",
    "com_measures = com_ee_shapes.columns[2:]"
   ]
  },
  {
   "cell_type": "code",
   "execution_count": 48,
   "metadata": {},
   "outputs": [],
   "source": [
    "for col in com_measures:\n",
    "    max_savings = max(com_ee_shapes[col])\n",
    "    com_ee_shapes[col] = com_ee_shapes[col]/max_savings"
   ]
  },
  {
   "cell_type": "code",
   "execution_count": 49,
   "metadata": {},
   "outputs": [],
   "source": [
    "res_ee_shapes = pd.read_csv('data/CEC EE load shapes/Res-ladwp-2021/CEC_res_loadshapes_EE_fz7_2021.csv')\n",
    "res_measures = res_ee_shapes.columns[2:]"
   ]
  },
  {
   "cell_type": "code",
   "execution_count": 50,
   "metadata": {},
   "outputs": [],
   "source": [
    "for col in res_measures:\n",
    "    res_max_savings = max(res_ee_shapes[col])\n",
    "    res_ee_shapes[col] = res_ee_shapes[col]/res_max_savings"
   ]
  },
  {
   "cell_type": "code",
   "execution_count": 51,
   "metadata": {},
   "outputs": [],
   "source": [
    "res_com_ee_profiles = pd.concat([com_ee_shapes, res_ee_shapes], axis=1)"
   ]
  },
  {
   "cell_type": "code",
   "execution_count": 42,
   "metadata": {},
   "outputs": [],
   "source": [
    "res_com_ee_profiles.drop(columns=['DatesAll','Unnamed: 0'],inplace=True)"
   ]
  },
  {
   "cell_type": "code",
   "execution_count": 44,
   "metadata": {},
   "outputs": [],
   "source": [
    "#res_com_ee_profiles.to_csv('data/cec_res_comm_ee_profiles_fz7_2021.csv')"
   ]
  },
  {
   "cell_type": "code",
   "execution_count": 55,
   "metadata": {},
   "outputs": [
    {
     "data": {
      "text/plain": [
       "Index(['Unnamed: 0', 'DatesAll', 'FCZ7.Commercial.College.Cooking',\n",
       "       'FCZ7.Commercial.College.Cooling',\n",
       "       'FCZ7.Commercial.College.DaylightingEff',\n",
       "       'FCZ7.Commercial.College.EconomizerEff', 'FCZ7.Commercial.College.Flat',\n",
       "       'FCZ7.Commercial.College.Heating',\n",
       "       'FCZ7.Commercial.College.HeatPumpEff',\n",
       "       'FCZ7.Commercial.College.IndoorLightingEff',\n",
       "       ...\n",
       "       'FCZ7.Residential.SINGLEFAMILY.CoolingEff',\n",
       "       'FCZ7.Residential.SINGLEFAMILY.Dryer',\n",
       "       'FCZ7.Residential.SINGLEFAMILY.Heating',\n",
       "       'FCZ7.Residential.SINGLEFAMILY.HeatPumpEff',\n",
       "       'FCZ7.Residential.SINGLEFAMILY.Miscellaneous',\n",
       "       'FCZ7.Residential.SINGLEFAMILY.Refrigerator',\n",
       "       'FCZ7.Residential.SINGLEFAMILY.ResLightingEff',\n",
       "       'FCZ7.Residential.SINGLEFAMILY.ResOccsensorEff',\n",
       "       'FCZ7.Residential.SINGLEFAMILY.Washer',\n",
       "       'FCZ7.Residential.SINGLEFAMILY.WaterHeating'],\n",
       "      dtype='object', length=189)"
      ]
     },
     "execution_count": 55,
     "metadata": {},
     "output_type": "execute_result"
    }
   ],
   "source": [
    "res_com_ee_profiles.columns"
   ]
  },
  {
   "cell_type": "code",
   "execution_count": null,
   "metadata": {},
   "outputs": [],
   "source": []
  }
 ],
 "metadata": {
  "kernelspec": {
   "display_name": "Python 3",
   "language": "python",
   "name": "python3"
  },
  "language_info": {
   "codemirror_mode": {
    "name": "ipython",
    "version": 3
   },
   "file_extension": ".py",
   "mimetype": "text/x-python",
   "name": "python",
   "nbconvert_exporter": "python",
   "pygments_lexer": "ipython3",
   "version": "3.8.3"
  }
 },
 "nbformat": 4,
 "nbformat_minor": 4
}
